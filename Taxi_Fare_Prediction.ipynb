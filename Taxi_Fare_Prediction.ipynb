{
 "cells": [
  {
   "cell_type": "code",
   "id": "dd699964",
   "metadata": {
    "ExecuteTime": {
     "end_time": "2024-06-05T12:47:15.398203Z",
     "start_time": "2024-06-05T12:47:15.391645Z"
    }
   },
   "source": [
    "import numpy as np\n",
    "import pandas as pd\n",
    "import matplotlib.pyplot as plt\n",
    "import seaborn as sns"
   ],
   "outputs": [],
   "execution_count": 131
  },
  {
   "cell_type": "code",
   "id": "dea770c2",
   "metadata": {
    "ExecuteTime": {
     "end_time": "2024-06-05T12:47:16.133309Z",
     "start_time": "2024-06-05T12:47:15.993502Z"
    }
   },
   "source": [
    "df_train = pd.read_csv(\"./train.csv/train.csv\",nrows=50000)\n",
    "df_train.head()\n",
    "df_train.info()\n",
    "df_train.shape"
   ],
   "outputs": [
    {
     "name": "stdout",
     "output_type": "stream",
     "text": [
      "<class 'pandas.core.frame.DataFrame'>\n",
      "RangeIndex: 50000 entries, 0 to 49999\n",
      "Data columns (total 8 columns):\n",
      " #   Column             Non-Null Count  Dtype  \n",
      "---  ------             --------------  -----  \n",
      " 0   key                50000 non-null  object \n",
      " 1   fare_amount        50000 non-null  float64\n",
      " 2   pickup_datetime    50000 non-null  object \n",
      " 3   pickup_longitude   50000 non-null  float64\n",
      " 4   pickup_latitude    50000 non-null  float64\n",
      " 5   dropoff_longitude  50000 non-null  float64\n",
      " 6   dropoff_latitude   50000 non-null  float64\n",
      " 7   passenger_count    50000 non-null  int64  \n",
      "dtypes: float64(5), int64(1), object(2)\n",
      "memory usage: 3.1+ MB\n"
     ]
    },
    {
     "data": {
      "text/plain": [
       "(50000, 8)"
      ]
     },
     "execution_count": 132,
     "metadata": {},
     "output_type": "execute_result"
    }
   ],
   "execution_count": 132
  },
  {
   "cell_type": "code",
   "id": "12c2deaf028909f4",
   "metadata": {
    "ExecuteTime": {
     "end_time": "2024-06-05T12:47:16.479518Z",
     "start_time": "2024-06-05T12:47:16.421855Z"
    }
   },
   "source": [
    "df_train.describe()"
   ],
   "outputs": [
    {
     "data": {
      "text/plain": [
       "        fare_amount  pickup_longitude  pickup_latitude  dropoff_longitude  \\\n",
       "count  50000.000000      50000.000000     50000.000000       50000.000000   \n",
       "mean      11.364171        -72.509756        39.933759         -72.504616   \n",
       "std        9.685557         10.393860         6.224857          10.407570   \n",
       "min       -5.000000        -75.423848       -74.006893         -84.654241   \n",
       "25%        6.000000        -73.992062        40.734880         -73.991152   \n",
       "50%        8.500000        -73.981840        40.752678         -73.980082   \n",
       "75%       12.500000        -73.967148        40.767360         -73.963584   \n",
       "max      200.000000         40.783472       401.083332          40.851027   \n",
       "\n",
       "       dropoff_latitude  passenger_count  \n",
       "count      50000.000000     50000.000000  \n",
       "mean          39.926251         1.667840  \n",
       "std            6.014737         1.289195  \n",
       "min          -74.006377         0.000000  \n",
       "25%           40.734372         1.000000  \n",
       "50%           40.753372         1.000000  \n",
       "75%           40.768167         2.000000  \n",
       "max           43.415190         6.000000  "
      ],
      "text/html": [
       "<div>\n",
       "<style scoped>\n",
       "    .dataframe tbody tr th:only-of-type {\n",
       "        vertical-align: middle;\n",
       "    }\n",
       "\n",
       "    .dataframe tbody tr th {\n",
       "        vertical-align: top;\n",
       "    }\n",
       "\n",
       "    .dataframe thead th {\n",
       "        text-align: right;\n",
       "    }\n",
       "</style>\n",
       "<table border=\"1\" class=\"dataframe\">\n",
       "  <thead>\n",
       "    <tr style=\"text-align: right;\">\n",
       "      <th></th>\n",
       "      <th>fare_amount</th>\n",
       "      <th>pickup_longitude</th>\n",
       "      <th>pickup_latitude</th>\n",
       "      <th>dropoff_longitude</th>\n",
       "      <th>dropoff_latitude</th>\n",
       "      <th>passenger_count</th>\n",
       "    </tr>\n",
       "  </thead>\n",
       "  <tbody>\n",
       "    <tr>\n",
       "      <th>count</th>\n",
       "      <td>50000.000000</td>\n",
       "      <td>50000.000000</td>\n",
       "      <td>50000.000000</td>\n",
       "      <td>50000.000000</td>\n",
       "      <td>50000.000000</td>\n",
       "      <td>50000.000000</td>\n",
       "    </tr>\n",
       "    <tr>\n",
       "      <th>mean</th>\n",
       "      <td>11.364171</td>\n",
       "      <td>-72.509756</td>\n",
       "      <td>39.933759</td>\n",
       "      <td>-72.504616</td>\n",
       "      <td>39.926251</td>\n",
       "      <td>1.667840</td>\n",
       "    </tr>\n",
       "    <tr>\n",
       "      <th>std</th>\n",
       "      <td>9.685557</td>\n",
       "      <td>10.393860</td>\n",
       "      <td>6.224857</td>\n",
       "      <td>10.407570</td>\n",
       "      <td>6.014737</td>\n",
       "      <td>1.289195</td>\n",
       "    </tr>\n",
       "    <tr>\n",
       "      <th>min</th>\n",
       "      <td>-5.000000</td>\n",
       "      <td>-75.423848</td>\n",
       "      <td>-74.006893</td>\n",
       "      <td>-84.654241</td>\n",
       "      <td>-74.006377</td>\n",
       "      <td>0.000000</td>\n",
       "    </tr>\n",
       "    <tr>\n",
       "      <th>25%</th>\n",
       "      <td>6.000000</td>\n",
       "      <td>-73.992062</td>\n",
       "      <td>40.734880</td>\n",
       "      <td>-73.991152</td>\n",
       "      <td>40.734372</td>\n",
       "      <td>1.000000</td>\n",
       "    </tr>\n",
       "    <tr>\n",
       "      <th>50%</th>\n",
       "      <td>8.500000</td>\n",
       "      <td>-73.981840</td>\n",
       "      <td>40.752678</td>\n",
       "      <td>-73.980082</td>\n",
       "      <td>40.753372</td>\n",
       "      <td>1.000000</td>\n",
       "    </tr>\n",
       "    <tr>\n",
       "      <th>75%</th>\n",
       "      <td>12.500000</td>\n",
       "      <td>-73.967148</td>\n",
       "      <td>40.767360</td>\n",
       "      <td>-73.963584</td>\n",
       "      <td>40.768167</td>\n",
       "      <td>2.000000</td>\n",
       "    </tr>\n",
       "    <tr>\n",
       "      <th>max</th>\n",
       "      <td>200.000000</td>\n",
       "      <td>40.783472</td>\n",
       "      <td>401.083332</td>\n",
       "      <td>40.851027</td>\n",
       "      <td>43.415190</td>\n",
       "      <td>6.000000</td>\n",
       "    </tr>\n",
       "  </tbody>\n",
       "</table>\n",
       "</div>"
      ]
     },
     "execution_count": 133,
     "metadata": {},
     "output_type": "execute_result"
    }
   ],
   "execution_count": 133
  },
  {
   "cell_type": "code",
   "id": "e63463c04c7a488e",
   "metadata": {
    "ExecuteTime": {
     "end_time": "2024-06-05T12:47:16.587798Z",
     "start_time": "2024-06-05T12:47:16.572530Z"
    }
   },
   "source": [
    "df_train.isnull().sum()"
   ],
   "outputs": [
    {
     "data": {
      "text/plain": [
       "key                  0\n",
       "fare_amount          0\n",
       "pickup_datetime      0\n",
       "pickup_longitude     0\n",
       "pickup_latitude      0\n",
       "dropoff_longitude    0\n",
       "dropoff_latitude     0\n",
       "passenger_count      0\n",
       "dtype: int64"
      ]
     },
     "execution_count": 134,
     "metadata": {},
     "output_type": "execute_result"
    }
   ],
   "execution_count": 134
  },
  {
   "cell_type": "code",
   "id": "994ba55413895c1b",
   "metadata": {
    "ExecuteTime": {
     "end_time": "2024-06-05T12:47:16.748800Z",
     "start_time": "2024-06-05T12:47:16.726813Z"
    }
   },
   "source": [
    "df_train.dropna(inplace=True, axis=0)\n",
    "df_train.isnull().sum()"
   ],
   "outputs": [
    {
     "data": {
      "text/plain": [
       "key                  0\n",
       "fare_amount          0\n",
       "pickup_datetime      0\n",
       "pickup_longitude     0\n",
       "pickup_latitude      0\n",
       "dropoff_longitude    0\n",
       "dropoff_latitude     0\n",
       "passenger_count      0\n",
       "dtype: int64"
      ]
     },
     "execution_count": 135,
     "metadata": {},
     "output_type": "execute_result"
    }
   ],
   "execution_count": 135
  },
  {
   "cell_type": "code",
   "id": "794fec4b2d89453e",
   "metadata": {
    "ExecuteTime": {
     "end_time": "2024-06-05T12:47:16.839780Z",
     "start_time": "2024-06-05T12:47:16.829817Z"
    }
   },
   "source": [
    "print(len(df_train[df_train[\"pickup_longitude\"]==0]))"
   ],
   "outputs": [
    {
     "name": "stdout",
     "output_type": "stream",
     "text": [
      "955\n"
     ]
    }
   ],
   "execution_count": 136
  },
  {
   "cell_type": "code",
   "id": "e20e2fbe3affdca9",
   "metadata": {
    "ExecuteTime": {
     "end_time": "2024-06-05T12:47:16.986536Z",
     "start_time": "2024-06-05T12:47:16.970368Z"
    }
   },
   "source": [
    "df_train = df_train.drop(df_train[df_train[\"pickup_longitude\"]==0].index)"
   ],
   "outputs": [],
   "execution_count": 137
  },
  {
   "cell_type": "code",
   "id": "aed711da5c1d985e",
   "metadata": {
    "ExecuteTime": {
     "end_time": "2024-06-05T12:47:18.132981Z",
     "start_time": "2024-06-05T12:47:17.213548Z"
    }
   },
   "source": [
    "df_train['pickup_datetime'] = pd.to_datetime(df_train['pickup_datetime'])"
   ],
   "outputs": [],
   "execution_count": 138
  },
  {
   "cell_type": "code",
   "id": "6ea96d99c841848",
   "metadata": {
    "ExecuteTime": {
     "end_time": "2024-06-05T12:47:18.148127Z",
     "start_time": "2024-06-05T12:47:18.137997Z"
    }
   },
   "source": [
    "df_train.loc[:,'pickup_date'] = df_train['pickup_datetime'].dt.day"
   ],
   "outputs": [],
   "execution_count": 139
  },
  {
   "cell_type": "code",
   "id": "c7ac613d33e15ca6",
   "metadata": {
    "ExecuteTime": {
     "end_time": "2024-06-05T12:47:18.164759Z",
     "start_time": "2024-06-05T12:47:18.151142Z"
    }
   },
   "source": [
    "df_train.loc[:, 'pickup_month'] = df_train['pickup_datetime'].dt.month\n",
    "df_train.loc[:, 'pickup_year'] = df_train['pickup_datetime'].dt.year"
   ],
   "outputs": [],
   "execution_count": 140
  },
  {
   "cell_type": "code",
   "id": "6669aebadf65871f",
   "metadata": {
    "ExecuteTime": {
     "end_time": "2024-06-05T12:47:18.188152Z",
     "start_time": "2024-06-05T12:47:18.167773Z"
    }
   },
   "source": [
    "df_train.head()"
   ],
   "outputs": [
    {
     "data": {
      "text/plain": [
       "                             key  fare_amount           pickup_datetime  \\\n",
       "0    2009-06-15 17:26:21.0000001          4.5 2009-06-15 17:26:21+00:00   \n",
       "1    2010-01-05 16:52:16.0000002         16.9 2010-01-05 16:52:16+00:00   \n",
       "2   2011-08-18 00:35:00.00000049          5.7 2011-08-18 00:35:00+00:00   \n",
       "3    2012-04-21 04:30:42.0000001          7.7 2012-04-21 04:30:42+00:00   \n",
       "4  2010-03-09 07:51:00.000000135          5.3 2010-03-09 07:51:00+00:00   \n",
       "\n",
       "   pickup_longitude  pickup_latitude  dropoff_longitude  dropoff_latitude  \\\n",
       "0        -73.844311        40.721319         -73.841610         40.712278   \n",
       "1        -74.016048        40.711303         -73.979268         40.782004   \n",
       "2        -73.982738        40.761270         -73.991242         40.750562   \n",
       "3        -73.987130        40.733143         -73.991567         40.758092   \n",
       "4        -73.968095        40.768008         -73.956655         40.783762   \n",
       "\n",
       "   passenger_count  pickup_date  pickup_month  pickup_year  \n",
       "0                1           15             6         2009  \n",
       "1                1            5             1         2010  \n",
       "2                2           18             8         2011  \n",
       "3                1           21             4         2012  \n",
       "4                1            9             3         2010  "
      ],
      "text/html": [
       "<div>\n",
       "<style scoped>\n",
       "    .dataframe tbody tr th:only-of-type {\n",
       "        vertical-align: middle;\n",
       "    }\n",
       "\n",
       "    .dataframe tbody tr th {\n",
       "        vertical-align: top;\n",
       "    }\n",
       "\n",
       "    .dataframe thead th {\n",
       "        text-align: right;\n",
       "    }\n",
       "</style>\n",
       "<table border=\"1\" class=\"dataframe\">\n",
       "  <thead>\n",
       "    <tr style=\"text-align: right;\">\n",
       "      <th></th>\n",
       "      <th>key</th>\n",
       "      <th>fare_amount</th>\n",
       "      <th>pickup_datetime</th>\n",
       "      <th>pickup_longitude</th>\n",
       "      <th>pickup_latitude</th>\n",
       "      <th>dropoff_longitude</th>\n",
       "      <th>dropoff_latitude</th>\n",
       "      <th>passenger_count</th>\n",
       "      <th>pickup_date</th>\n",
       "      <th>pickup_month</th>\n",
       "      <th>pickup_year</th>\n",
       "    </tr>\n",
       "  </thead>\n",
       "  <tbody>\n",
       "    <tr>\n",
       "      <th>0</th>\n",
       "      <td>2009-06-15 17:26:21.0000001</td>\n",
       "      <td>4.5</td>\n",
       "      <td>2009-06-15 17:26:21+00:00</td>\n",
       "      <td>-73.844311</td>\n",
       "      <td>40.721319</td>\n",
       "      <td>-73.841610</td>\n",
       "      <td>40.712278</td>\n",
       "      <td>1</td>\n",
       "      <td>15</td>\n",
       "      <td>6</td>\n",
       "      <td>2009</td>\n",
       "    </tr>\n",
       "    <tr>\n",
       "      <th>1</th>\n",
       "      <td>2010-01-05 16:52:16.0000002</td>\n",
       "      <td>16.9</td>\n",
       "      <td>2010-01-05 16:52:16+00:00</td>\n",
       "      <td>-74.016048</td>\n",
       "      <td>40.711303</td>\n",
       "      <td>-73.979268</td>\n",
       "      <td>40.782004</td>\n",
       "      <td>1</td>\n",
       "      <td>5</td>\n",
       "      <td>1</td>\n",
       "      <td>2010</td>\n",
       "    </tr>\n",
       "    <tr>\n",
       "      <th>2</th>\n",
       "      <td>2011-08-18 00:35:00.00000049</td>\n",
       "      <td>5.7</td>\n",
       "      <td>2011-08-18 00:35:00+00:00</td>\n",
       "      <td>-73.982738</td>\n",
       "      <td>40.761270</td>\n",
       "      <td>-73.991242</td>\n",
       "      <td>40.750562</td>\n",
       "      <td>2</td>\n",
       "      <td>18</td>\n",
       "      <td>8</td>\n",
       "      <td>2011</td>\n",
       "    </tr>\n",
       "    <tr>\n",
       "      <th>3</th>\n",
       "      <td>2012-04-21 04:30:42.0000001</td>\n",
       "      <td>7.7</td>\n",
       "      <td>2012-04-21 04:30:42+00:00</td>\n",
       "      <td>-73.987130</td>\n",
       "      <td>40.733143</td>\n",
       "      <td>-73.991567</td>\n",
       "      <td>40.758092</td>\n",
       "      <td>1</td>\n",
       "      <td>21</td>\n",
       "      <td>4</td>\n",
       "      <td>2012</td>\n",
       "    </tr>\n",
       "    <tr>\n",
       "      <th>4</th>\n",
       "      <td>2010-03-09 07:51:00.000000135</td>\n",
       "      <td>5.3</td>\n",
       "      <td>2010-03-09 07:51:00+00:00</td>\n",
       "      <td>-73.968095</td>\n",
       "      <td>40.768008</td>\n",
       "      <td>-73.956655</td>\n",
       "      <td>40.783762</td>\n",
       "      <td>1</td>\n",
       "      <td>9</td>\n",
       "      <td>3</td>\n",
       "      <td>2010</td>\n",
       "    </tr>\n",
       "  </tbody>\n",
       "</table>\n",
       "</div>"
      ]
     },
     "execution_count": 141,
     "metadata": {},
     "output_type": "execute_result"
    }
   ],
   "execution_count": 141
  },
  {
   "cell_type": "code",
   "id": "219875e186e3a976",
   "metadata": {
    "ExecuteTime": {
     "end_time": "2024-06-05T12:47:19.529416Z",
     "start_time": "2024-06-05T12:47:18.193162Z"
    }
   },
   "source": [
    "# Haversine distance \n",
    "from math import cos, asin, sqrt, pi\n",
    "\n",
    "def distance(lat1, lon1, lat2, lon2):\n",
    "    r = 6371\n",
    "    p = pi / 180\n",
    "\n",
    "    a = 0.5 - cos((lat2-lat1)*p)/2 + cos(lat1*p) * cos(lat2*p) * (1-cos((lon2-lon1)*p))/2\n",
    "    return 2 * r * asin(sqrt(a))\n",
    "\n",
    "df_train[\"Haversine_distance\"] = df_train.apply(lambda row: distance(row['pickup_latitude'],row['pickup_longitude'],row['dropoff_latitude'],row['dropoff_longitude']), axis=1)\n"
   ],
   "outputs": [],
   "execution_count": 142
  },
  {
   "cell_type": "code",
   "id": "cb68027a1f1bc565",
   "metadata": {
    "ExecuteTime": {
     "end_time": "2024-06-05T12:47:19.540256Z",
     "start_time": "2024-06-05T12:47:19.531426Z"
    }
   },
   "source": [
    "len(df_train)"
   ],
   "outputs": [
    {
     "data": {
      "text/plain": [
       "49045"
      ]
     },
     "execution_count": 143,
     "metadata": {},
     "output_type": "execute_result"
    }
   ],
   "execution_count": 143
  },
  {
   "cell_type": "code",
   "id": "dedfd4db6f775225",
   "metadata": {
    "ExecuteTime": {
     "end_time": "2024-06-05T12:47:19.559092Z",
     "start_time": "2024-06-05T12:47:19.543269Z"
    }
   },
   "source": [
    "print(df_train['Haversine_distance'].median(),\n",
    "df_train['Haversine_distance'].mean(),\n",
    "df_train['Haversine_distance'].mode())"
   ],
   "outputs": [
    {
     "name": "stdout",
     "output_type": "stream",
     "text": [
      "2.162233839130312 11.76349130528574 0    0.0\n",
      "Name: Haversine_distance, dtype: float64\n"
     ]
    }
   ],
   "execution_count": 144
  },
  {
   "cell_type": "code",
   "id": "2c00be07ba1bb032",
   "metadata": {
    "ExecuteTime": {
     "end_time": "2024-06-05T12:47:19.568047Z",
     "start_time": "2024-06-05T12:47:19.562104Z"
    }
   },
   "source": [
    "# import osmnx as ox\n",
    "# import networkx as nx"
   ],
   "outputs": [],
   "execution_count": 145
  },
  {
   "cell_type": "code",
   "id": "55b5c3b0ba02a57a",
   "metadata": {
    "ExecuteTime": {
     "end_time": "2024-06-05T12:47:19.577442Z",
     "start_time": "2024-06-05T12:47:19.570058Z"
    }
   },
   "source": [
    "# This is to save the NY map as a graph I think\n",
    "# city = [\n",
    "#     {\n",
    "#         \"city\": \"New York\",\n",
    "#         \"state\": \"New York\",\n",
    "#         \"country\": \"USA\",\n",
    "#     }\n",
    "# ]\n",
    "# NY_graph = ox.graph_from_place(city, network_type='drive')"
   ],
   "outputs": [],
   "execution_count": 146
  },
  {
   "cell_type": "code",
   "id": "67ce920f9e882047",
   "metadata": {
    "ExecuteTime": {
     "end_time": "2024-06-05T12:47:19.590240Z",
     "start_time": "2024-06-05T12:47:19.584453Z"
    }
   },
   "source": [
    "# NY_graph2 = ox.graph_from_place('New York, USA', network_type='drive_service')"
   ],
   "outputs": [],
   "execution_count": 147
  },
  {
   "cell_type": "code",
   "id": "ef38f22e1284c0d3",
   "metadata": {
    "ExecuteTime": {
     "end_time": "2024-06-05T12:47:19.597835Z",
     "start_time": "2024-06-05T12:47:19.593258Z"
    }
   },
   "source": [
    "# ox.save_graphml(NY_graph, 'NY1.graphml')\n",
    "# ox.save_graphml(NY_graph2, 'NY2.graphml')"
   ],
   "outputs": [],
   "execution_count": 148
  },
  {
   "cell_type": "code",
   "id": "d9397b7fd83f1e8",
   "metadata": {
    "ExecuteTime": {
     "end_time": "2024-06-05T12:47:19.609240Z",
     "start_time": "2024-06-05T12:47:19.601848Z"
    }
   },
   "source": [
    "# import os\n",
    "# \n",
    "# # print(os.path.isfile(\"./NY1.graphml\") and  os.path.isfile(\"./NY2.graphml\"))\n",
    "# \n",
    "# if not (os.path.isfile(\"./NY1.graphml\") and os.path.isfile(\"./NY2.graphml\")):\n",
    "#     city = [\n",
    "#         {\n",
    "#             \"city\": \"New York\",\n",
    "#             \"state\": \"New York\",\n",
    "#             \"country\": \"USA\",\n",
    "#         }\n",
    "#     ]\n",
    "#     NY_graph = ox.graph_from_place(city, network_type='drive')\n",
    "#     ox.save_graphml(NY_graph, 'NY1.graphml')\n",
    "# \n",
    "#     NY_graph2 = ox.graph_from_place('New York, USA', network_type='drive_service')\n",
    "#     ox.save_graphml(NY_graph2, 'NY2.graphml')\n",
    "# \n",
    "#     print(\"Graphs GENERATED successfully\")\n",
    "# else:\n",
    "#     NY_graph = ox.load_graphml('NY1.graphml')\n",
    "#     NY_graph2 = ox.load_graphml('NY2.graphml')\n",
    "#     print(\"Graphs LOADED successfully\")"
   ],
   "outputs": [],
   "execution_count": 149
  },
  {
   "cell_type": "code",
   "id": "d550c89153952b5c",
   "metadata": {
    "ExecuteTime": {
     "end_time": "2024-06-05T12:47:19.617708Z",
     "start_time": "2024-06-05T12:47:19.611251Z"
    }
   },
   "source": [
    "# NY_graph\n",
    "# NY_graph2"
   ],
   "outputs": [],
   "execution_count": 150
  },
  {
   "cell_type": "code",
   "id": "77927adc29b526ef",
   "metadata": {
    "ExecuteTime": {
     "end_time": "2024-06-05T12:47:19.626168Z",
     "start_time": "2024-06-05T12:47:19.621723Z"
    }
   },
   "source": [
    "# start_graph_node = ox.utils.get_nearest_node(NY_graph,(40.767937, -73.982155))\n",
    "# end_graph_node = ox.utils.get_nearest_node(NY_graph,(40.765602, -73.964630))\n",
    "\n",
    "# get_nearest_node is deprecated i think"
   ],
   "outputs": [],
   "execution_count": 151
  },
  {
   "cell_type": "code",
   "id": "7d23358f908b6c0e",
   "metadata": {
    "ExecuteTime": {
     "end_time": "2024-06-05T12:47:19.634440Z",
     "start_time": "2024-06-05T12:47:19.629179Z"
    }
   },
   "source": [
    "# start_graph_node = ox.nearest_nodes(NY_graph,-73.982155,40.767937 ,return_dist=True)\n",
    "# end_graph_node = ox.nearest_nodes(NY_graph,-73.982155,40.765602,return_dist=True)\n",
    "\n",
    "# Syntax: nearest_nodes(graph_obj, longitude value, latitude value, if we want the distance or not)"
   ],
   "outputs": [],
   "execution_count": 152
  },
  {
   "cell_type": "code",
   "id": "e3f5b1dbdf00a12b",
   "metadata": {
    "ExecuteTime": {
     "end_time": "2024-06-05T12:47:19.644551Z",
     "start_time": "2024-06-05T12:47:19.637464Z"
    }
   },
   "source": [
    "# import folium\n",
    "\n",
    "# m = ox.plot_graph_folium(NY_graph)\n",
    "# m.save('NY1.html')\n",
    "\n",
    "# m2 = ox.plot_graph_folium(NY_graph2)\n",
    "# m2.save('NY2.html')\n",
    "\n",
    "# folium is bad use GeoPanda or smthng\n",
    "# import geopandas as gpd"
   ],
   "outputs": [],
   "execution_count": 153
  },
  {
   "cell_type": "code",
   "id": "291bd5214343c823",
   "metadata": {
    "ExecuteTime": {
     "end_time": "2024-06-05T12:47:19.653877Z",
     "start_time": "2024-06-05T12:47:19.647563Z"
    }
   },
   "source": [
    "# THIS METHOD IS IRRELEVANT TAKES TOO MUCH TIME\n",
    "# from functools import lru_cache\n",
    "# \n",
    "# noPathCounter = 0\n",
    "# @lru_cache(maxsize=10000)\n",
    "# def get_road_dist(graph_obj, long1, lat1, long2, lat2):\n",
    "#     global noPathCounter\n",
    "#     start_graph_node,start_node_dist = ox.nearest_nodes(graph_obj,long1,lat1,return_dist=True)\n",
    "#     end_graph_node,end_node_dist = ox.nearest_nodes(graph_obj,long2,lat2,return_dist=True)\n",
    "# \n",
    "#     # distance = ox.shortest_path(graph_obj,start_graph_node,end_graph_node,weight=\"length\", )\n",
    "#     try:\n",
    "#         shortest_distance = nx.shortest_path_length(graph_obj,start_graph_node,end_graph_node)\n",
    "#         # print(\"shortest path found for node:\",start_graph_node,end_graph_node)\n",
    "#         return shortest_distance +start_node_dist + end_node_dist\n",
    "#     except nx.NetworkXNoPath as noPathError:\n",
    "#         shortest_distance = None\n",
    "#         noPathCounter +=1\n",
    "#         print(noPathError)\n",
    "#         return shortest_distance\n",
    "# \n",
    "# df_train[\"osmnx_distance\"] = df_train.apply(lambda row: get_road_dist(NY_graph,row[\"pickup_longitude\"],row[\"pickup_latitude\"],row[\"dropoff_longitude\"],row[\"dropoff_latitude\"]), axis=1)\n",
    "# df_train.head()"
   ],
   "outputs": [],
   "execution_count": 154
  },
  {
   "cell_type": "code",
   "id": "d4dc0b37cfa674fa",
   "metadata": {
    "ExecuteTime": {
     "end_time": "2024-06-05T12:47:19.663815Z",
     "start_time": "2024-06-05T12:47:19.656892Z"
    }
   },
   "source": [
    "# import requests\n",
    "\n",
    "# def get_road_dist(row):\n",
    "#     start_lon, start_lat = row[\"pickup_longitude\"], row[\"pickup_latitude\"]\n",
    "#     end_lon, end_lat = row[\"dropoff_longitude\"], row[\"dropoff_latitude\"]\n",
    "#     \n",
    "#     url = \"http://router.project-osrm.org/route/v1/driving/\"\n",
    "#     coords = f\"{start_lon},{start_lat};{end_lon},{end_lat}\"\n",
    "#     params = {\n",
    "#         \"geometries\": \"polyline\",\n",
    "#         \"overview\": \"full\",\n",
    "#         \"steps\": \"true\"\n",
    "#     }\n",
    "#     \n",
    "#     try:\n",
    "#         response = requests.get(url + coords, params=params)\n",
    "#         response.raise_for_status()\n",
    "#         data = response.json()\n",
    "#         \n",
    "#         if data[\"code\"] == \"Ok\" and data[\"routes\"]:\n",
    "#             return data[\"routes\"][0][\"distance\"]\n",
    "#         else:\n",
    "#             print(f\"Error: {data['message']}\")\n",
    "#             return None\n",
    "#     except requests.exceptions.RequestException as e:\n",
    "#         print(f\"Error: {e}\")\n",
    "#         return None\n",
    "# \n",
    "# \n",
    "# df_train[\"osrm_dist\"] = df_train.apply(get_road_dist, axis=1)"
   ],
   "outputs": [],
   "execution_count": 155
  },
  {
   "cell_type": "code",
   "id": "f4cc39d582be6bc9",
   "metadata": {
    "ExecuteTime": {
     "end_time": "2024-06-05T12:47:19.676935Z",
     "start_time": "2024-06-05T12:47:19.667831Z"
    }
   },
   "source": [
    "# import requests\n",
    "# from itertools import islice\n",
    "# from functools import lru_cache\n",
    "# \n",
    "# BATCH_SIZE = 200 \n",
    "# CACHE_SIZE = 10000 \n",
    "# \n",
    "# @lru_cache(maxsize=CACHE_SIZE)\n",
    "# def get_road_dist_cached(start_lon, start_lat, end_lon, end_lat):\n",
    "#     url = \"http://router.project-osrm.org/route/v1/driving/\"\n",
    "#     coords = f\"{start_lon},{start_lat};{end_lon},{end_lat}\"\n",
    "#     params = {\n",
    "#         \"geometries\": \"polyline\",\n",
    "#         \"overview\": \"full\",\n",
    "#         \"steps\": \"true\"\n",
    "#     }\n",
    "# \n",
    "#     try:\n",
    "#         response = requests.get(url + coords, params=params)\n",
    "#         response.raise_for_status()\n",
    "#         data = response.json()\n",
    "# \n",
    "#         if data[\"code\"] == \"Ok\" and data[\"routes\"]:\n",
    "#             return data[\"routes\"][0][\"distance\"]\n",
    "#         else:\n",
    "#             print(f\"Error: {data['message']}\")\n",
    "#             return None\n",
    "#     except requests.exceptions.RequestException as e:\n",
    "#         print(f\"Error: {e}\")\n",
    "#         return None\n",
    "# \n",
    "# def batch(iterable, batch_size):\n",
    "#     iterator = iter(iterable)\n",
    "#     while True:\n",
    "#         batch = list(islice(iterator, batch_size))\n",
    "#         if not batch:\n",
    "#             break\n",
    "#         yield batch\n",
    "# \n",
    "# def get_road_dist_batch(coords):\n",
    "#     distances = []\n",
    "#     for start_lon, start_lat, end_lon, end_lat in coords:\n",
    "#         distance = get_road_dist_cached(start_lon, start_lat, end_lon, end_lat)\n",
    "#         distances.append(distance)\n",
    "# \n",
    "#     return distances\n",
    "# \n",
    "# coords = list(df_train[[\"pickup_longitude\", \"pickup_latitude\", \"dropoff_longitude\", \"dropoff_latitude\"]].itertuples(index=False, name=None))\n",
    "# df_train[\"osrm_dist\"] = get_road_dist_batch(coords)"
   ],
   "outputs": [],
   "execution_count": 156
  },
  {
   "cell_type": "code",
   "id": "e0e657bf69056bdb",
   "metadata": {
    "ExecuteTime": {
     "end_time": "2024-06-05T12:47:19.688706Z",
     "start_time": "2024-06-05T12:47:19.679948Z"
    }
   },
   "source": [
    "# import requests\n",
    "# from itertools import islice\n",
    "# from functools import lru_cache\n",
    "# import time\n",
    "# \n",
    "# BATCH_SIZE = 100  \n",
    "# CACHE_SIZE = 10000\n",
    "# SLEEP_TIME = 1  # Sleep time between batches to avoid rate limiting\n",
    "# \n",
    "# @lru_cache(maxsize=CACHE_SIZE)\n",
    "# def get_road_dist_cached(start_lon, start_lat, end_lon, end_lat):\n",
    "#     url = \"http://router.project-osrm.org/route/v1/driving/\"\n",
    "#     coords = f\"{start_lon},{start_lat};{end_lon},{end_lat}\"\n",
    "#     params = {\n",
    "#         \"geometries\": \"polyline\",\n",
    "#         \"overview\": \"full\",\n",
    "#         \"steps\": \"true\"\n",
    "#     }\n",
    "# \n",
    "#     try:\n",
    "#         response = requests.get(url + coords, params=params)\n",
    "#         response.raise_for_status()\n",
    "#         data = response.json()\n",
    "# \n",
    "#         if data[\"code\"] == \"Ok\" and data[\"routes\"]:\n",
    "#             distance = data[\"routes\"][0][\"distance\"]\n",
    "#         else:\n",
    "#             print(f\"Error: {data['message']}\")\n",
    "#             distance = None\n",
    "# \n",
    "#         return distance\n",
    "#     except requests.exceptions.RequestException as e:\n",
    "#         print(f\"Error: {e}\")\n",
    "#         return None\n",
    "# \n",
    "# def batch(iterable, batch_size):\n",
    "#     iterator = iter(iterable)\n",
    "#     while True:\n",
    "#         batch = list(islice(iterator, batch_size))\n",
    "#         if not batch:\n",
    "#             break\n",
    "#         yield batch\n",
    "# \n",
    "# def get_road_dist_batch(coords):\n",
    "#     distances = []\n",
    "#     total_batches = len(coords) // BATCH_SIZE\n",
    "#     start_time = time.time()\n",
    "#     for i, coord_batch in enumerate(batch(coords, BATCH_SIZE), 1):\n",
    "#         batch_start_time = time.time()\n",
    "#         for start_lon, start_lat, end_lon, end_lat in coord_batch:\n",
    "#             distance = get_road_dist_cached(start_lon, start_lat, end_lon, end_lat)\n",
    "#             distances.append(distance)\n",
    "#         batch_time = time.time() - batch_start_time\n",
    "#         print(f\"Batch {i}/{total_batches} time: {batch_time:.2f} seconds\")\n",
    "#         time.sleep(SLEEP_TIME)  # Sleep to avoid hitting rate limits\n",
    "#     total_time = time.time() - start_time\n",
    "#     print(f\"Total time for {total_batches} batches: {total_time:.2f} seconds\")\n",
    "#     return distances\n",
    "# \n",
    "# coords = list(df_train[[\"pickup_longitude\", \"pickup_latitude\", \"dropoff_longitude\", \"dropoff_latitude\"]].itertuples(index=False, name=None))\n",
    "# df_train[\"osrm_dist\"] = get_road_dist_batch(coords)"
   ],
   "outputs": [],
   "execution_count": 157
  },
  {
   "cell_type": "code",
   "id": "90d9b8ddb369e1ea",
   "metadata": {
    "ExecuteTime": {
     "end_time": "2024-06-05T12:47:19.701364Z",
     "start_time": "2024-06-05T12:47:19.691721Z"
    }
   },
   "source": [
    "# import requests\n",
    "# import pandas as pd\n",
    "# from concurrent.futures import ThreadPoolExecutor, as_completed\n",
    "# import time\n",
    "# import hashlib\n",
    "# \n",
    "# # Initialize a cache\n",
    "# cache = {}\n",
    "# \n",
    "# def get_road_dist(start_lon, start_lat, end_lon, end_lat):\n",
    "#     # Create a unique key for the route using hashing for efficiency\n",
    "#     route_key = hashlib.md5(f\"{start_lon},{start_lat},{end_lon},{end_lat}\".encode()).hexdigest()\n",
    "# \n",
    "#     # Check if the distance is already in the cache\n",
    "#     if route_key in cache:\n",
    "#         return cache[route_key]\n",
    "# \n",
    "#     url = \"http://router.project-osrm.org/route/v1/driving/\"\n",
    "#     coords = f\"{start_lon},{start_lat};{end_lon},{end_lat}\"\n",
    "#     params = {\n",
    "#         \"geometries\": \"polyline\",\n",
    "#         \"overview\": \"full\",\n",
    "#         \"steps\": \"true\"\n",
    "#     }\n",
    "# \n",
    "#     try:\n",
    "#         response = requests.get(url + coords, params=params)\n",
    "#         response.raise_for_status()\n",
    "#         data = response.json()\n",
    "# \n",
    "#         if data[\"code\"] == \"Ok\" and data[\"routes\"]:\n",
    "#             distance = data[\"routes\"][0][\"distance\"]\n",
    "#             # Save the distance in the cache\n",
    "#             cache[route_key] = distance\n",
    "#             return distance\n",
    "#         else:\n",
    "#             print(f\"Error: {data['message']}\")\n",
    "#             return None\n",
    "#     except requests.exceptions.RequestException as e:\n",
    "#         print(f\"Error: {e}\")\n",
    "#         return None\n",
    "# \n",
    "# def process_row(row):\n",
    "#     start_time_row = time.time()\n",
    "#     distance_osrm = get_road_dist(row[\"pickup_longitude\"], row[\"pickup_latitude\"], row[\"dropoff_longitude\"], row[\"dropoff_latitude\"])\n",
    "#     end_time_row = time.time()\n",
    "#     print(\"current row processing time: \", end_time_row - start_time_row)\n",
    "#     return  distance_osrm\n",
    "# \n",
    "# # Function to handle parallel processing\n",
    "# def parallel_process(df, func, n_jobs=50):\n",
    "#     results = []\n",
    "#     with ThreadPoolExecutor(max_workers=n_jobs) as executor:\n",
    "#         futures = [executor.submit(func, row) for _, row in df.iterrows()]\n",
    "#         for future in as_completed(futures):\n",
    "#             results.append(future.result())\n",
    "#     return results\n",
    "# \n",
    "# \n",
    "# # Apply the function to the dataframe with parallel processing\n",
    "# start_time = time.time()\n",
    "# df_train[\"osrm_dist\"] = parallel_process(df_train, process_row, n_jobs=8)\n",
    "# end_time = time.time()\n",
    "# \n",
    "# print(df_train)\n",
    "# print(f\"Processing time: {end_time - start_time} seconds\")"
   ],
   "outputs": [],
   "execution_count": 158
  },
  {
   "metadata": {
    "ExecuteTime": {
     "end_time": "2024-06-05T12:47:19.715143Z",
     "start_time": "2024-06-05T12:47:19.705381Z"
    }
   },
   "cell_type": "code",
   "source": [
    "# import aiohttp\n",
    "# import asyncio\n",
    "# import hashlib\n",
    "# import time\n",
    "# \n",
    "# # Initialize a cache\n",
    "# cache = {}\n",
    "# \n",
    "# async def get_road_dist(session, start_lon, start_lat, end_lon, end_lat):\n",
    "#     # Create a unique key for the route using hashing for efficiency\n",
    "#     route_key = hashlib.md5(f\"{start_lon},{start_lat},{end_lon},{end_lat}\".encode()).hexdigest()\n",
    "# \n",
    "#     # Check if the distance is already in the cache\n",
    "#     if route_key in cache:\n",
    "#         return cache[route_key]\n",
    "# \n",
    "#     url = f\"http://router.project-osrm.org/route/v1/driving/{start_lon},{start_lat};{end_lon},{end_lat}\"\n",
    "#     params = {\n",
    "#         \"geometries\": \"polyline\",\n",
    "#         \"overview\": \"full\",\n",
    "#         \"steps\": \"true\"\n",
    "#     }\n",
    "# \n",
    "#     try:\n",
    "#         async with session.get(url, params=params) as response:\n",
    "#             data = await response.json()\n",
    "#             if data[\"code\"] == \"Ok\" and data[\"routes\"]:\n",
    "#                 distance = data[\"routes\"][0][\"distance\"]\n",
    "#                 # Save the distance in the cache\n",
    "#                 cache[route_key] = distance\n",
    "#                 return distance\n",
    "#             else:\n",
    "#                 print(f\"Error: {data['message']}\")\n",
    "#                 return None\n",
    "#     except aiohttp.ClientError as e:\n",
    "#         print(f\"Error: {e}\")\n",
    "#         return None\n",
    "# \n",
    "# async def process_row(session, row):\n",
    "#     start_time_row = time.time()\n",
    "#     distance_osrm = await get_road_dist(session, row[\"pickup_longitude\"], row[\"pickup_latitude\"], row[\"dropoff_longitude\"], row[\"dropoff_latitude\"])\n",
    "#     end_time_row = time.time()\n",
    "#     print(\"Current row processing time: \", end_time_row - start_time_row)\n",
    "#     return distance_osrm\n",
    "# \n",
    "# async def main(df):\n",
    "#     async with aiohttp.ClientSession() as session:\n",
    "#         tasks = []\n",
    "#         for _, row in df.iterrows():\n",
    "#             tasks.append(process_row(session, row))\n",
    "#         results = await asyncio.gather(*tasks)\n",
    "#         return results\n",
    "# \n",
    "# # Apply the function to the dataframe with asynchronous processing\n",
    "# start_time = time.time()\n",
    "# df_train[\"osrm_dist\"] = await main(df_train)\n",
    "# end_time = time.time()\n",
    "# \n",
    "# print(df_train)\n",
    "# print(f\"Total processing time: {end_time - start_time} seconds\")"
   ],
   "id": "7f3004a1a0ee9e9c",
   "outputs": [],
   "execution_count": 159
  },
  {
   "metadata": {
    "ExecuteTime": {
     "end_time": "2024-06-05T12:47:19.738534Z",
     "start_time": "2024-06-05T12:47:19.719160Z"
    }
   },
   "cell_type": "code",
   "source": "df_train.info()",
   "id": "4e408a8495f608bb",
   "outputs": [
    {
     "name": "stdout",
     "output_type": "stream",
     "text": [
      "<class 'pandas.core.frame.DataFrame'>\n",
      "Index: 49045 entries, 0 to 49999\n",
      "Data columns (total 12 columns):\n",
      " #   Column              Non-Null Count  Dtype              \n",
      "---  ------              --------------  -----              \n",
      " 0   key                 49045 non-null  object             \n",
      " 1   fare_amount         49045 non-null  float64            \n",
      " 2   pickup_datetime     49045 non-null  datetime64[ns, UTC]\n",
      " 3   pickup_longitude    49045 non-null  float64            \n",
      " 4   pickup_latitude     49045 non-null  float64            \n",
      " 5   dropoff_longitude   49045 non-null  float64            \n",
      " 6   dropoff_latitude    49045 non-null  float64            \n",
      " 7   passenger_count     49045 non-null  int64              \n",
      " 8   pickup_date         49045 non-null  int32              \n",
      " 9   pickup_month        49045 non-null  int32              \n",
      " 10  pickup_year         49045 non-null  int32              \n",
      " 11  Haversine_distance  49045 non-null  float64            \n",
      "dtypes: datetime64[ns, UTC](1), float64(6), int32(3), int64(1), object(1)\n",
      "memory usage: 4.3+ MB\n"
     ]
    }
   ],
   "execution_count": 160
  },
  {
   "metadata": {
    "ExecuteTime": {
     "end_time": "2024-06-05T12:47:19.753533Z",
     "start_time": "2024-06-05T12:47:19.741549Z"
    }
   },
   "cell_type": "code",
   "source": [
    "dataset_features = ['Haversine_distance','pickup_longitude','pickup_latitude','dropoff_latitude','dropoff_longitude','passenger_count','pickup_date','pickup_month','pickup_year']\n",
    "\n",
    "X = df_train[dataset_features]\n",
    "y = df_train['fare_amount']"
   ],
   "id": "e759c61517693cac",
   "outputs": [],
   "execution_count": 161
  },
  {
   "metadata": {
    "ExecuteTime": {
     "end_time": "2024-06-05T12:47:20.611312Z",
     "start_time": "2024-06-05T12:47:19.762557Z"
    }
   },
   "cell_type": "code",
   "source": [
    "from sklearn.tree import DecisionTreeRegressor\n",
    "\n",
    "taxi_model = DecisionTreeRegressor(random_state=1)\n",
    "\n",
    "taxi_model.fit(X,y)"
   ],
   "id": "e81c59b6b1f24e43",
   "outputs": [
    {
     "data": {
      "text/plain": [
       "DecisionTreeRegressor(random_state=1)"
      ],
      "text/html": [
       "<style>#sk-container-id-3 {\n",
       "  /* Definition of color scheme common for light and dark mode */\n",
       "  --sklearn-color-text: black;\n",
       "  --sklearn-color-line: gray;\n",
       "  /* Definition of color scheme for unfitted estimators */\n",
       "  --sklearn-color-unfitted-level-0: #fff5e6;\n",
       "  --sklearn-color-unfitted-level-1: #f6e4d2;\n",
       "  --sklearn-color-unfitted-level-2: #ffe0b3;\n",
       "  --sklearn-color-unfitted-level-3: chocolate;\n",
       "  /* Definition of color scheme for fitted estimators */\n",
       "  --sklearn-color-fitted-level-0: #f0f8ff;\n",
       "  --sklearn-color-fitted-level-1: #d4ebff;\n",
       "  --sklearn-color-fitted-level-2: #b3dbfd;\n",
       "  --sklearn-color-fitted-level-3: cornflowerblue;\n",
       "\n",
       "  /* Specific color for light theme */\n",
       "  --sklearn-color-text-on-default-background: var(--sg-text-color, var(--theme-code-foreground, var(--jp-content-font-color1, black)));\n",
       "  --sklearn-color-background: var(--sg-background-color, var(--theme-background, var(--jp-layout-color0, white)));\n",
       "  --sklearn-color-border-box: var(--sg-text-color, var(--theme-code-foreground, var(--jp-content-font-color1, black)));\n",
       "  --sklearn-color-icon: #696969;\n",
       "\n",
       "  @media (prefers-color-scheme: dark) {\n",
       "    /* Redefinition of color scheme for dark theme */\n",
       "    --sklearn-color-text-on-default-background: var(--sg-text-color, var(--theme-code-foreground, var(--jp-content-font-color1, white)));\n",
       "    --sklearn-color-background: var(--sg-background-color, var(--theme-background, var(--jp-layout-color0, #111)));\n",
       "    --sklearn-color-border-box: var(--sg-text-color, var(--theme-code-foreground, var(--jp-content-font-color1, white)));\n",
       "    --sklearn-color-icon: #878787;\n",
       "  }\n",
       "}\n",
       "\n",
       "#sk-container-id-3 {\n",
       "  color: var(--sklearn-color-text);\n",
       "}\n",
       "\n",
       "#sk-container-id-3 pre {\n",
       "  padding: 0;\n",
       "}\n",
       "\n",
       "#sk-container-id-3 input.sk-hidden--visually {\n",
       "  border: 0;\n",
       "  clip: rect(1px 1px 1px 1px);\n",
       "  clip: rect(1px, 1px, 1px, 1px);\n",
       "  height: 1px;\n",
       "  margin: -1px;\n",
       "  overflow: hidden;\n",
       "  padding: 0;\n",
       "  position: absolute;\n",
       "  width: 1px;\n",
       "}\n",
       "\n",
       "#sk-container-id-3 div.sk-dashed-wrapped {\n",
       "  border: 1px dashed var(--sklearn-color-line);\n",
       "  margin: 0 0.4em 0.5em 0.4em;\n",
       "  box-sizing: border-box;\n",
       "  padding-bottom: 0.4em;\n",
       "  background-color: var(--sklearn-color-background);\n",
       "}\n",
       "\n",
       "#sk-container-id-3 div.sk-container {\n",
       "  /* jupyter's `normalize.less` sets `[hidden] { display: none; }`\n",
       "     but bootstrap.min.css set `[hidden] { display: none !important; }`\n",
       "     so we also need the `!important` here to be able to override the\n",
       "     default hidden behavior on the sphinx rendered scikit-learn.org.\n",
       "     See: https://github.com/scikit-learn/scikit-learn/issues/21755 */\n",
       "  display: inline-block !important;\n",
       "  position: relative;\n",
       "}\n",
       "\n",
       "#sk-container-id-3 div.sk-text-repr-fallback {\n",
       "  display: none;\n",
       "}\n",
       "\n",
       "div.sk-parallel-item,\n",
       "div.sk-serial,\n",
       "div.sk-item {\n",
       "  /* draw centered vertical line to link estimators */\n",
       "  background-image: linear-gradient(var(--sklearn-color-text-on-default-background), var(--sklearn-color-text-on-default-background));\n",
       "  background-size: 2px 100%;\n",
       "  background-repeat: no-repeat;\n",
       "  background-position: center center;\n",
       "}\n",
       "\n",
       "/* Parallel-specific style estimator block */\n",
       "\n",
       "#sk-container-id-3 div.sk-parallel-item::after {\n",
       "  content: \"\";\n",
       "  width: 100%;\n",
       "  border-bottom: 2px solid var(--sklearn-color-text-on-default-background);\n",
       "  flex-grow: 1;\n",
       "}\n",
       "\n",
       "#sk-container-id-3 div.sk-parallel {\n",
       "  display: flex;\n",
       "  align-items: stretch;\n",
       "  justify-content: center;\n",
       "  background-color: var(--sklearn-color-background);\n",
       "  position: relative;\n",
       "}\n",
       "\n",
       "#sk-container-id-3 div.sk-parallel-item {\n",
       "  display: flex;\n",
       "  flex-direction: column;\n",
       "}\n",
       "\n",
       "#sk-container-id-3 div.sk-parallel-item:first-child::after {\n",
       "  align-self: flex-end;\n",
       "  width: 50%;\n",
       "}\n",
       "\n",
       "#sk-container-id-3 div.sk-parallel-item:last-child::after {\n",
       "  align-self: flex-start;\n",
       "  width: 50%;\n",
       "}\n",
       "\n",
       "#sk-container-id-3 div.sk-parallel-item:only-child::after {\n",
       "  width: 0;\n",
       "}\n",
       "\n",
       "/* Serial-specific style estimator block */\n",
       "\n",
       "#sk-container-id-3 div.sk-serial {\n",
       "  display: flex;\n",
       "  flex-direction: column;\n",
       "  align-items: center;\n",
       "  background-color: var(--sklearn-color-background);\n",
       "  padding-right: 1em;\n",
       "  padding-left: 1em;\n",
       "}\n",
       "\n",
       "\n",
       "/* Toggleable style: style used for estimator/Pipeline/ColumnTransformer box that is\n",
       "clickable and can be expanded/collapsed.\n",
       "- Pipeline and ColumnTransformer use this feature and define the default style\n",
       "- Estimators will overwrite some part of the style using the `sk-estimator` class\n",
       "*/\n",
       "\n",
       "/* Pipeline and ColumnTransformer style (default) */\n",
       "\n",
       "#sk-container-id-3 div.sk-toggleable {\n",
       "  /* Default theme specific background. It is overwritten whether we have a\n",
       "  specific estimator or a Pipeline/ColumnTransformer */\n",
       "  background-color: var(--sklearn-color-background);\n",
       "}\n",
       "\n",
       "/* Toggleable label */\n",
       "#sk-container-id-3 label.sk-toggleable__label {\n",
       "  cursor: pointer;\n",
       "  display: block;\n",
       "  width: 100%;\n",
       "  margin-bottom: 0;\n",
       "  padding: 0.5em;\n",
       "  box-sizing: border-box;\n",
       "  text-align: center;\n",
       "}\n",
       "\n",
       "#sk-container-id-3 label.sk-toggleable__label-arrow:before {\n",
       "  /* Arrow on the left of the label */\n",
       "  content: \"▸\";\n",
       "  float: left;\n",
       "  margin-right: 0.25em;\n",
       "  color: var(--sklearn-color-icon);\n",
       "}\n",
       "\n",
       "#sk-container-id-3 label.sk-toggleable__label-arrow:hover:before {\n",
       "  color: var(--sklearn-color-text);\n",
       "}\n",
       "\n",
       "/* Toggleable content - dropdown */\n",
       "\n",
       "#sk-container-id-3 div.sk-toggleable__content {\n",
       "  max-height: 0;\n",
       "  max-width: 0;\n",
       "  overflow: hidden;\n",
       "  text-align: left;\n",
       "  /* unfitted */\n",
       "  background-color: var(--sklearn-color-unfitted-level-0);\n",
       "}\n",
       "\n",
       "#sk-container-id-3 div.sk-toggleable__content.fitted {\n",
       "  /* fitted */\n",
       "  background-color: var(--sklearn-color-fitted-level-0);\n",
       "}\n",
       "\n",
       "#sk-container-id-3 div.sk-toggleable__content pre {\n",
       "  margin: 0.2em;\n",
       "  border-radius: 0.25em;\n",
       "  color: var(--sklearn-color-text);\n",
       "  /* unfitted */\n",
       "  background-color: var(--sklearn-color-unfitted-level-0);\n",
       "}\n",
       "\n",
       "#sk-container-id-3 div.sk-toggleable__content.fitted pre {\n",
       "  /* unfitted */\n",
       "  background-color: var(--sklearn-color-fitted-level-0);\n",
       "}\n",
       "\n",
       "#sk-container-id-3 input.sk-toggleable__control:checked~div.sk-toggleable__content {\n",
       "  /* Expand drop-down */\n",
       "  max-height: 200px;\n",
       "  max-width: 100%;\n",
       "  overflow: auto;\n",
       "}\n",
       "\n",
       "#sk-container-id-3 input.sk-toggleable__control:checked~label.sk-toggleable__label-arrow:before {\n",
       "  content: \"▾\";\n",
       "}\n",
       "\n",
       "/* Pipeline/ColumnTransformer-specific style */\n",
       "\n",
       "#sk-container-id-3 div.sk-label input.sk-toggleable__control:checked~label.sk-toggleable__label {\n",
       "  color: var(--sklearn-color-text);\n",
       "  background-color: var(--sklearn-color-unfitted-level-2);\n",
       "}\n",
       "\n",
       "#sk-container-id-3 div.sk-label.fitted input.sk-toggleable__control:checked~label.sk-toggleable__label {\n",
       "  background-color: var(--sklearn-color-fitted-level-2);\n",
       "}\n",
       "\n",
       "/* Estimator-specific style */\n",
       "\n",
       "/* Colorize estimator box */\n",
       "#sk-container-id-3 div.sk-estimator input.sk-toggleable__control:checked~label.sk-toggleable__label {\n",
       "  /* unfitted */\n",
       "  background-color: var(--sklearn-color-unfitted-level-2);\n",
       "}\n",
       "\n",
       "#sk-container-id-3 div.sk-estimator.fitted input.sk-toggleable__control:checked~label.sk-toggleable__label {\n",
       "  /* fitted */\n",
       "  background-color: var(--sklearn-color-fitted-level-2);\n",
       "}\n",
       "\n",
       "#sk-container-id-3 div.sk-label label.sk-toggleable__label,\n",
       "#sk-container-id-3 div.sk-label label {\n",
       "  /* The background is the default theme color */\n",
       "  color: var(--sklearn-color-text-on-default-background);\n",
       "}\n",
       "\n",
       "/* On hover, darken the color of the background */\n",
       "#sk-container-id-3 div.sk-label:hover label.sk-toggleable__label {\n",
       "  color: var(--sklearn-color-text);\n",
       "  background-color: var(--sklearn-color-unfitted-level-2);\n",
       "}\n",
       "\n",
       "/* Label box, darken color on hover, fitted */\n",
       "#sk-container-id-3 div.sk-label.fitted:hover label.sk-toggleable__label.fitted {\n",
       "  color: var(--sklearn-color-text);\n",
       "  background-color: var(--sklearn-color-fitted-level-2);\n",
       "}\n",
       "\n",
       "/* Estimator label */\n",
       "\n",
       "#sk-container-id-3 div.sk-label label {\n",
       "  font-family: monospace;\n",
       "  font-weight: bold;\n",
       "  display: inline-block;\n",
       "  line-height: 1.2em;\n",
       "}\n",
       "\n",
       "#sk-container-id-3 div.sk-label-container {\n",
       "  text-align: center;\n",
       "}\n",
       "\n",
       "/* Estimator-specific */\n",
       "#sk-container-id-3 div.sk-estimator {\n",
       "  font-family: monospace;\n",
       "  border: 1px dotted var(--sklearn-color-border-box);\n",
       "  border-radius: 0.25em;\n",
       "  box-sizing: border-box;\n",
       "  margin-bottom: 0.5em;\n",
       "  /* unfitted */\n",
       "  background-color: var(--sklearn-color-unfitted-level-0);\n",
       "}\n",
       "\n",
       "#sk-container-id-3 div.sk-estimator.fitted {\n",
       "  /* fitted */\n",
       "  background-color: var(--sklearn-color-fitted-level-0);\n",
       "}\n",
       "\n",
       "/* on hover */\n",
       "#sk-container-id-3 div.sk-estimator:hover {\n",
       "  /* unfitted */\n",
       "  background-color: var(--sklearn-color-unfitted-level-2);\n",
       "}\n",
       "\n",
       "#sk-container-id-3 div.sk-estimator.fitted:hover {\n",
       "  /* fitted */\n",
       "  background-color: var(--sklearn-color-fitted-level-2);\n",
       "}\n",
       "\n",
       "/* Specification for estimator info (e.g. \"i\" and \"?\") */\n",
       "\n",
       "/* Common style for \"i\" and \"?\" */\n",
       "\n",
       ".sk-estimator-doc-link,\n",
       "a:link.sk-estimator-doc-link,\n",
       "a:visited.sk-estimator-doc-link {\n",
       "  float: right;\n",
       "  font-size: smaller;\n",
       "  line-height: 1em;\n",
       "  font-family: monospace;\n",
       "  background-color: var(--sklearn-color-background);\n",
       "  border-radius: 1em;\n",
       "  height: 1em;\n",
       "  width: 1em;\n",
       "  text-decoration: none !important;\n",
       "  margin-left: 1ex;\n",
       "  /* unfitted */\n",
       "  border: var(--sklearn-color-unfitted-level-1) 1pt solid;\n",
       "  color: var(--sklearn-color-unfitted-level-1);\n",
       "}\n",
       "\n",
       ".sk-estimator-doc-link.fitted,\n",
       "a:link.sk-estimator-doc-link.fitted,\n",
       "a:visited.sk-estimator-doc-link.fitted {\n",
       "  /* fitted */\n",
       "  border: var(--sklearn-color-fitted-level-1) 1pt solid;\n",
       "  color: var(--sklearn-color-fitted-level-1);\n",
       "}\n",
       "\n",
       "/* On hover */\n",
       "div.sk-estimator:hover .sk-estimator-doc-link:hover,\n",
       ".sk-estimator-doc-link:hover,\n",
       "div.sk-label-container:hover .sk-estimator-doc-link:hover,\n",
       ".sk-estimator-doc-link:hover {\n",
       "  /* unfitted */\n",
       "  background-color: var(--sklearn-color-unfitted-level-3);\n",
       "  color: var(--sklearn-color-background);\n",
       "  text-decoration: none;\n",
       "}\n",
       "\n",
       "div.sk-estimator.fitted:hover .sk-estimator-doc-link.fitted:hover,\n",
       ".sk-estimator-doc-link.fitted:hover,\n",
       "div.sk-label-container:hover .sk-estimator-doc-link.fitted:hover,\n",
       ".sk-estimator-doc-link.fitted:hover {\n",
       "  /* fitted */\n",
       "  background-color: var(--sklearn-color-fitted-level-3);\n",
       "  color: var(--sklearn-color-background);\n",
       "  text-decoration: none;\n",
       "}\n",
       "\n",
       "/* Span, style for the box shown on hovering the info icon */\n",
       ".sk-estimator-doc-link span {\n",
       "  display: none;\n",
       "  z-index: 9999;\n",
       "  position: relative;\n",
       "  font-weight: normal;\n",
       "  right: .2ex;\n",
       "  padding: .5ex;\n",
       "  margin: .5ex;\n",
       "  width: min-content;\n",
       "  min-width: 20ex;\n",
       "  max-width: 50ex;\n",
       "  color: var(--sklearn-color-text);\n",
       "  box-shadow: 2pt 2pt 4pt #999;\n",
       "  /* unfitted */\n",
       "  background: var(--sklearn-color-unfitted-level-0);\n",
       "  border: .5pt solid var(--sklearn-color-unfitted-level-3);\n",
       "}\n",
       "\n",
       ".sk-estimator-doc-link.fitted span {\n",
       "  /* fitted */\n",
       "  background: var(--sklearn-color-fitted-level-0);\n",
       "  border: var(--sklearn-color-fitted-level-3);\n",
       "}\n",
       "\n",
       ".sk-estimator-doc-link:hover span {\n",
       "  display: block;\n",
       "}\n",
       "\n",
       "/* \"?\"-specific style due to the `<a>` HTML tag */\n",
       "\n",
       "#sk-container-id-3 a.estimator_doc_link {\n",
       "  float: right;\n",
       "  font-size: 1rem;\n",
       "  line-height: 1em;\n",
       "  font-family: monospace;\n",
       "  background-color: var(--sklearn-color-background);\n",
       "  border-radius: 1rem;\n",
       "  height: 1rem;\n",
       "  width: 1rem;\n",
       "  text-decoration: none;\n",
       "  /* unfitted */\n",
       "  color: var(--sklearn-color-unfitted-level-1);\n",
       "  border: var(--sklearn-color-unfitted-level-1) 1pt solid;\n",
       "}\n",
       "\n",
       "#sk-container-id-3 a.estimator_doc_link.fitted {\n",
       "  /* fitted */\n",
       "  border: var(--sklearn-color-fitted-level-1) 1pt solid;\n",
       "  color: var(--sklearn-color-fitted-level-1);\n",
       "}\n",
       "\n",
       "/* On hover */\n",
       "#sk-container-id-3 a.estimator_doc_link:hover {\n",
       "  /* unfitted */\n",
       "  background-color: var(--sklearn-color-unfitted-level-3);\n",
       "  color: var(--sklearn-color-background);\n",
       "  text-decoration: none;\n",
       "}\n",
       "\n",
       "#sk-container-id-3 a.estimator_doc_link.fitted:hover {\n",
       "  /* fitted */\n",
       "  background-color: var(--sklearn-color-fitted-level-3);\n",
       "}\n",
       "</style><div id=\"sk-container-id-3\" class=\"sk-top-container\"><div class=\"sk-text-repr-fallback\"><pre>DecisionTreeRegressor(random_state=1)</pre><b>In a Jupyter environment, please rerun this cell to show the HTML representation or trust the notebook. <br />On GitHub, the HTML representation is unable to render, please try loading this page with nbviewer.org.</b></div><div class=\"sk-container\" hidden><div class=\"sk-item\"><div class=\"sk-estimator fitted sk-toggleable\"><input class=\"sk-toggleable__control sk-hidden--visually\" id=\"sk-estimator-id-3\" type=\"checkbox\" checked><label for=\"sk-estimator-id-3\" class=\"sk-toggleable__label fitted sk-toggleable__label-arrow fitted\">&nbsp;&nbsp;DecisionTreeRegressor<a class=\"sk-estimator-doc-link fitted\" rel=\"noreferrer\" target=\"_blank\" href=\"https://scikit-learn.org/1.5/modules/generated/sklearn.tree.DecisionTreeRegressor.html\">?<span>Documentation for DecisionTreeRegressor</span></a><span class=\"sk-estimator-doc-link fitted\">i<span>Fitted</span></span></label><div class=\"sk-toggleable__content fitted\"><pre>DecisionTreeRegressor(random_state=1)</pre></div> </div></div></div></div>"
      ]
     },
     "execution_count": 162,
     "metadata": {},
     "output_type": "execute_result"
    }
   ],
   "execution_count": 162
  },
  {
   "metadata": {
    "ExecuteTime": {
     "end_time": "2024-06-05T12:47:20.632653Z",
     "start_time": "2024-06-05T12:47:20.621327Z"
    }
   },
   "cell_type": "code",
   "source": [
    "print(\"Original values for first 5 houses: \\n\")\n",
    "print(df_train[\"fare_amount\"].head(5))\n",
    "print(\"Predictions for the first 5 houses: \\n\")\n",
    "print(taxi_model.predict(X[:5]))"
   ],
   "id": "ee529f904d2084d2",
   "outputs": [
    {
     "name": "stdout",
     "output_type": "stream",
     "text": [
      "Original values for first 5 houses: \n",
      "\n",
      "0     4.5\n",
      "1    16.9\n",
      "2     5.7\n",
      "3     7.7\n",
      "4     5.3\n",
      "Name: fare_amount, dtype: float64\n",
      "Predictions for the first 5 houses: \n",
      "\n",
      "[ 4.5 16.9  5.7  7.7  5.3]\n"
     ]
    }
   ],
   "execution_count": 163
  },
  {
   "metadata": {
    "ExecuteTime": {
     "end_time": "2024-06-05T12:47:20.671539Z",
     "start_time": "2024-06-05T12:47:20.634668Z"
    }
   },
   "cell_type": "code",
   "source": [
    "from sklearn.metrics import mean_absolute_error\n",
    "from sklearn.metrics import mean_squared_error\n",
    "\n",
    "predicted_taxi_prices = taxi_model.predict(X)\n",
    "mean_squared_error(y, predicted_taxi_prices)"
   ],
   "id": "25ef68dc42629d21",
   "outputs": [
    {
     "data": {
      "text/plain": [
       "0.0006524620246712203"
      ]
     },
     "execution_count": 164,
     "metadata": {},
     "output_type": "execute_result"
    }
   ],
   "execution_count": 164
  },
  {
   "metadata": {
    "ExecuteTime": {
     "end_time": "2024-06-05T12:47:21.311836Z",
     "start_time": "2024-06-05T12:47:20.676553Z"
    }
   },
   "cell_type": "code",
   "source": [
    "from sklearn.model_selection import train_test_split\n",
    "\n",
    "X_train, X_test, y_train, y_test = train_test_split(X, y, test_size=0.2, random_state=1)\n",
    "taxi_model = DecisionTreeRegressor()\n",
    "taxi_model.fit(X_train,y_train)\n",
    "\n",
    "fare_predictions = taxi_model.predict(X_test)\n",
    "print(\"MAE= \",mean_absolute_error(y_test, fare_predictions))\n",
    "print(\"MSE= \",mean_squared_error(y_test, fare_predictions))"
   ],
   "id": "54a407f7819153ae",
   "outputs": [
    {
     "name": "stdout",
     "output_type": "stream",
     "text": [
      "MAE=  2.6628188398409622\n",
      "MSE=  25.65043897441125\n"
     ]
    }
   ],
   "execution_count": 165
  },
  {
   "metadata": {
    "ExecuteTime": {
     "end_time": "2024-06-05T12:47:26.650108Z",
     "start_time": "2024-06-05T12:47:21.313849Z"
    }
   },
   "cell_type": "code",
   "source": [
    "def get_mae(max_leaf_nodes, train_X, train_y, test_X, test_y):\n",
    "    model = DecisionTreeRegressor(max_leaf_nodes=max_leaf_nodes, random_state=0)\n",
    "    model.fit(train_X, train_y)\n",
    "    predictions = model.predict(test_X)\n",
    "    mae = mean_absolute_error(test_y, predictions)\n",
    "    return mae\n",
    "\n",
    "def get_mse(max_leaf_nodes, train_X, train_y, test_X, test_y):\n",
    "    model = DecisionTreeRegressor(max_leaf_nodes=max_leaf_nodes, random_state=0)\n",
    "    model.fit(train_X,train_y)\n",
    "    predictions = model.predict(test_X)\n",
    "    mse = mean_squared_error(test_y,predictions)\n",
    "    return mse\n",
    "\n",
    "def driver_function():\n",
    "    for max_leaf_nodes in [5,10,50,100,500,1000,5000,10000]:\n",
    "        mae = get_mae(max_leaf_nodes,X_train,y_train, X_test,y_test)\n",
    "        mse = get_mse(max_leaf_nodes,X_train,y_train, X_test,y_test)\n",
    "        print(f\"Max Leaf Nodes: {max_leaf_nodes}\\t MAE: {mae}\\t MSE: {mse}\")\n",
    "\n",
    "driver_function()"
   ],
   "id": "cbbf4c062797cea0",
   "outputs": [
    {
     "name": "stdout",
     "output_type": "stream",
     "text": [
      "Max Leaf Nodes: 5\t MAE: 2.9620737791871763\t MSE: 22.532784765700587\n",
      "Max Leaf Nodes: 10\t MAE: 2.5992619477849623\t MSE: 19.629789750718267\n",
      "Max Leaf Nodes: 50\t MAE: 2.222856903541269\t MSE: 16.738409174701843\n",
      "Max Leaf Nodes: 100\t MAE: 2.1301344337085424\t MSE: 17.089717307645177\n",
      "Max Leaf Nodes: 500\t MAE: 2.081392557953884\t MSE: 18.97872673523172\n",
      "Max Leaf Nodes: 1000\t MAE: 2.132818497519049\t MSE: 20.746134746733365\n",
      "Max Leaf Nodes: 5000\t MAE: 2.4370335013737017\t MSE: 24.351874396338186\n",
      "Max Leaf Nodes: 10000\t MAE: 2.5953017127984968\t MSE: 25.296380190587552\n"
     ]
    }
   ],
   "execution_count": 166
  },
  {
   "metadata": {
    "ExecuteTime": {
     "end_time": "2024-06-05T12:48:07.336983Z",
     "start_time": "2024-06-05T12:47:26.653118Z"
    }
   },
   "cell_type": "code",
   "source": [
    "from sklearn.ensemble import RandomForestRegressor\n",
    "\n",
    "forest_model = RandomForestRegressor(random_state=1)\n",
    "forest_model.fit(X_train,y_train)\n",
    "randomforest_predictions = forest_model.predict(X_test)\n",
    "print(\"MAE for RandomForest: \", mean_absolute_error(y_test,randomforest_predictions))\n",
    "print(\"MSE for Randomforest: \", mean_squared_error(y_test,randomforest_predictions))"
   ],
   "id": "f5e5b438d014c63",
   "outputs": [
    {
     "name": "stdout",
     "output_type": "stream",
     "text": [
      "MAE for RandomForest:  1.9450125666904539\n",
      "MSE for Randomforest:  13.027735545075384\n"
     ]
    }
   ],
   "execution_count": 167
  },
  {
   "metadata": {
    "ExecuteTime": {
     "end_time": "2024-06-05T12:48:07.858837Z",
     "start_time": "2024-06-05T12:48:07.340Z"
    }
   },
   "cell_type": "code",
   "source": [
    "sns.set_theme()\n",
    "sns.displot(data=df_train[\"Haversine_distance\"], bins=30)"
   ],
   "id": "799a341d5a41c17d",
   "outputs": [
    {
     "data": {
      "text/plain": [
       "<seaborn.axisgrid.FacetGrid at 0x1f2ddc92690>"
      ]
     },
     "execution_count": 168,
     "metadata": {},
     "output_type": "execute_result"
    },
    {
     "data": {
      "text/plain": [
       "<Figure size 500x500 with 1 Axes>"
      ],
      "image/png": "[encoded data removed]"
     },
     "metadata": {},
     "output_type": "display_data"
    }
   ],
   "execution_count": 168
  },
  {
   "metadata": {
    "ExecuteTime": {
     "end_time": "2024-06-05T12:48:07.882111Z",
     "start_time": "2024-06-05T12:48:07.860853Z"
    }
   },
   "cell_type": "code",
   "source": [
    "df_train[\"z_score\"] = (\n",
    "        (df_train[\"Haversine_distance\"] - df_train[\"Haversine_distance\"].mean()) / df_train[\"Haversine_distance\"].std())\n",
    "df_train.head()"
   ],
   "id": "701156fe797795b7",
   "outputs": [
    {
     "data": {
      "text/plain": [
       "                             key  fare_amount           pickup_datetime  \\\n",
       "0    2009-06-15 17:26:21.0000001          4.5 2009-06-15 17:26:21+00:00   \n",
       "1    2010-01-05 16:52:16.0000002         16.9 2010-01-05 16:52:16+00:00   \n",
       "2   2011-08-18 00:35:00.00000049          5.7 2011-08-18 00:35:00+00:00   \n",
       "3    2012-04-21 04:30:42.0000001          7.7 2012-04-21 04:30:42+00:00   \n",
       "4  2010-03-09 07:51:00.000000135          5.3 2010-03-09 07:51:00+00:00   \n",
       "\n",
       "   pickup_longitude  pickup_latitude  dropoff_longitude  dropoff_latitude  \\\n",
       "0        -73.844311        40.721319         -73.841610         40.712278   \n",
       "1        -74.016048        40.711303         -73.979268         40.782004   \n",
       "2        -73.982738        40.761270         -73.991242         40.750562   \n",
       "3        -73.987130        40.733143         -73.991567         40.758092   \n",
       "4        -73.968095        40.768008         -73.956655         40.783762   \n",
       "\n",
       "   passenger_count  pickup_date  pickup_month  pickup_year  \\\n",
       "0                1           15             6         2009   \n",
       "1                1            5             1         2010   \n",
       "2                2           18             8         2011   \n",
       "3                1           21             4         2012   \n",
       "4                1            9             3         2010   \n",
       "\n",
       "   Haversine_distance   z_score  \n",
       "0            1.030764 -0.041089  \n",
       "1            8.450134 -0.012685  \n",
       "2            1.389525 -0.039715  \n",
       "3            2.799270 -0.034318  \n",
       "4            1.999157 -0.037381  "
      ],
      "text/html": [
       "<div>\n",
       "<style scoped>\n",
       "    .dataframe tbody tr th:only-of-type {\n",
       "        vertical-align: middle;\n",
       "    }\n",
       "\n",
       "    .dataframe tbody tr th {\n",
       "        vertical-align: top;\n",
       "    }\n",
       "\n",
       "    .dataframe thead th {\n",
       "        text-align: right;\n",
       "    }\n",
       "</style>\n",
       "<table border=\"1\" class=\"dataframe\">\n",
       "  <thead>\n",
       "    <tr style=\"text-align: right;\">\n",
       "      <th></th>\n",
       "      <th>key</th>\n",
       "      <th>fare_amount</th>\n",
       "      <th>pickup_datetime</th>\n",
       "      <th>pickup_longitude</th>\n",
       "      <th>pickup_latitude</th>\n",
       "      <th>dropoff_longitude</th>\n",
       "      <th>dropoff_latitude</th>\n",
       "      <th>passenger_count</th>\n",
       "      <th>pickup_date</th>\n",
       "      <th>pickup_month</th>\n",
       "      <th>pickup_year</th>\n",
       "      <th>Haversine_distance</th>\n",
       "      <th>z_score</th>\n",
       "    </tr>\n",
       "  </thead>\n",
       "  <tbody>\n",
       "    <tr>\n",
       "      <th>0</th>\n",
       "      <td>2009-06-15 17:26:21.0000001</td>\n",
       "      <td>4.5</td>\n",
       "      <td>2009-06-15 17:26:21+00:00</td>\n",
       "      <td>-73.844311</td>\n",
       "      <td>40.721319</td>\n",
       "      <td>-73.841610</td>\n",
       "      <td>40.712278</td>\n",
       "      <td>1</td>\n",
       "      <td>15</td>\n",
       "      <td>6</td>\n",
       "      <td>2009</td>\n",
       "      <td>1.030764</td>\n",
       "      <td>-0.041089</td>\n",
       "    </tr>\n",
       "    <tr>\n",
       "      <th>1</th>\n",
       "      <td>2010-01-05 16:52:16.0000002</td>\n",
       "      <td>16.9</td>\n",
       "      <td>2010-01-05 16:52:16+00:00</td>\n",
       "      <td>-74.016048</td>\n",
       "      <td>40.711303</td>\n",
       "      <td>-73.979268</td>\n",
       "      <td>40.782004</td>\n",
       "      <td>1</td>\n",
       "      <td>5</td>\n",
       "      <td>1</td>\n",
       "      <td>2010</td>\n",
       "      <td>8.450134</td>\n",
       "      <td>-0.012685</td>\n",
       "    </tr>\n",
       "    <tr>\n",
       "      <th>2</th>\n",
       "      <td>2011-08-18 00:35:00.00000049</td>\n",
       "      <td>5.7</td>\n",
       "      <td>2011-08-18 00:35:00+00:00</td>\n",
       "      <td>-73.982738</td>\n",
       "      <td>40.761270</td>\n",
       "      <td>-73.991242</td>\n",
       "      <td>40.750562</td>\n",
       "      <td>2</td>\n",
       "      <td>18</td>\n",
       "      <td>8</td>\n",
       "      <td>2011</td>\n",
       "      <td>1.389525</td>\n",
       "      <td>-0.039715</td>\n",
       "    </tr>\n",
       "    <tr>\n",
       "      <th>3</th>\n",
       "      <td>2012-04-21 04:30:42.0000001</td>\n",
       "      <td>7.7</td>\n",
       "      <td>2012-04-21 04:30:42+00:00</td>\n",
       "      <td>-73.987130</td>\n",
       "      <td>40.733143</td>\n",
       "      <td>-73.991567</td>\n",
       "      <td>40.758092</td>\n",
       "      <td>1</td>\n",
       "      <td>21</td>\n",
       "      <td>4</td>\n",
       "      <td>2012</td>\n",
       "      <td>2.799270</td>\n",
       "      <td>-0.034318</td>\n",
       "    </tr>\n",
       "    <tr>\n",
       "      <th>4</th>\n",
       "      <td>2010-03-09 07:51:00.000000135</td>\n",
       "      <td>5.3</td>\n",
       "      <td>2010-03-09 07:51:00+00:00</td>\n",
       "      <td>-73.968095</td>\n",
       "      <td>40.768008</td>\n",
       "      <td>-73.956655</td>\n",
       "      <td>40.783762</td>\n",
       "      <td>1</td>\n",
       "      <td>9</td>\n",
       "      <td>3</td>\n",
       "      <td>2010</td>\n",
       "      <td>1.999157</td>\n",
       "      <td>-0.037381</td>\n",
       "    </tr>\n",
       "  </tbody>\n",
       "</table>\n",
       "</div>"
      ]
     },
     "execution_count": 169,
     "metadata": {},
     "output_type": "execute_result"
    }
   ],
   "execution_count": 169
  },
  {
   "metadata": {
    "ExecuteTime": {
     "end_time": "2024-06-05T12:48:07.900903Z",
     "start_time": "2024-06-05T12:48:07.884129Z"
    }
   },
   "cell_type": "code",
   "source": [
    "print(len(df_train))\n",
    "df_train_filtered = df_train[(df_train[\"z_score\"]>-3) & (df_train[\"z_score\"]<3)]\n",
    "print(len(df_train_filtered))"
   ],
   "id": "23c76cef2ebded48",
   "outputs": [
    {
     "name": "stdout",
     "output_type": "stream",
     "text": [
      "49045\n",
      "48993\n"
     ]
    }
   ],
   "execution_count": 170
  },
  {
   "metadata": {
    "ExecuteTime": {
     "end_time": "2024-06-05T12:48:07.914391Z",
     "start_time": "2024-06-05T12:48:07.902912Z"
    }
   },
   "cell_type": "code",
   "source": [
    "IQR = df_train_filtered[\"Haversine_distance\"].quantile(0.75) - df_train_filtered[\"Haversine_distance\"].quantile(0.25)\n",
    "print(IQR)"
   ],
   "id": "6e2aaee69b3c2120",
   "outputs": [
    {
     "name": "stdout",
     "output_type": "stream",
     "text": [
      "2.6780242518978166\n"
     ]
    }
   ],
   "execution_count": 171
  },
  {
   "metadata": {
    "ExecuteTime": {
     "end_time": "2024-06-05T12:48:07.984229Z",
     "start_time": "2024-06-05T12:48:07.920403Z"
    }
   },
   "cell_type": "code",
   "source": "df_train_filtered.describe()",
   "id": "31ee7c22dcc72f5",
   "outputs": [
    {
     "data": {
      "text/plain": [
       "        fare_amount  pickup_longitude  pickup_latitude  dropoff_longitude  \\\n",
       "count  48993.000000      48993.000000     48993.000000       48993.000000   \n",
       "mean      11.360809        -73.927622        40.712125         -73.926459   \n",
       "std        9.657236          2.308100         2.796769           2.308152   \n",
       "min       -5.000000        -75.423848       -74.006893         -75.354559   \n",
       "25%        6.000000        -73.992297        40.736471         -73.991327   \n",
       "50%        8.500000        -73.982115        40.753414         -73.980471   \n",
       "75%       12.500000        -73.968353        40.767757         -73.965267   \n",
       "max      200.000000         40.783472       401.083332          40.851027   \n",
       "\n",
       "       dropoff_latitude  passenger_count   pickup_date  pickup_month  \\\n",
       "count      48993.000000     48993.000000  48993.000000  48993.000000   \n",
       "mean          40.705343         1.669320     15.666748      6.273100   \n",
       "std            2.274072         1.290317      8.659512      3.461119   \n",
       "min          -74.006377         0.000000      1.000000      1.000000   \n",
       "25%           40.735863         1.000000      8.000000      3.000000   \n",
       "50%           40.754089         1.000000     16.000000      6.000000   \n",
       "75%           40.768482         2.000000     23.000000      9.000000   \n",
       "max           43.415190         6.000000     31.000000     12.000000   \n",
       "\n",
       "        pickup_year  Haversine_distance       z_score  \n",
       "count  48993.000000        48993.000000  48993.000000  \n",
       "mean    2011.739371            3.392666     -0.032047  \n",
       "std        1.865076            4.662224      0.017849  \n",
       "min     2009.000000            0.000000     -0.045035  \n",
       "25%     2010.000000            1.262975     -0.040200  \n",
       "50%     2012.000000            2.159224     -0.036769  \n",
       "75%     2013.000000            3.940999     -0.029947  \n",
       "max     2015.000000          376.445536      1.396138  "
      ],
      "text/html": [
       "<div>\n",
       "<style scoped>\n",
       "    .dataframe tbody tr th:only-of-type {\n",
       "        vertical-align: middle;\n",
       "    }\n",
       "\n",
       "    .dataframe tbody tr th {\n",
       "        vertical-align: top;\n",
       "    }\n",
       "\n",
       "    .dataframe thead th {\n",
       "        text-align: right;\n",
       "    }\n",
       "</style>\n",
       "<table border=\"1\" class=\"dataframe\">\n",
       "  <thead>\n",
       "    <tr style=\"text-align: right;\">\n",
       "      <th></th>\n",
       "      <th>fare_amount</th>\n",
       "      <th>pickup_longitude</th>\n",
       "      <th>pickup_latitude</th>\n",
       "      <th>dropoff_longitude</th>\n",
       "      <th>dropoff_latitude</th>\n",
       "      <th>passenger_count</th>\n",
       "      <th>pickup_date</th>\n",
       "      <th>pickup_month</th>\n",
       "      <th>pickup_year</th>\n",
       "      <th>Haversine_distance</th>\n",
       "      <th>z_score</th>\n",
       "    </tr>\n",
       "  </thead>\n",
       "  <tbody>\n",
       "    <tr>\n",
       "      <th>count</th>\n",
       "      <td>48993.000000</td>\n",
       "      <td>48993.000000</td>\n",
       "      <td>48993.000000</td>\n",
       "      <td>48993.000000</td>\n",
       "      <td>48993.000000</td>\n",
       "      <td>48993.000000</td>\n",
       "      <td>48993.000000</td>\n",
       "      <td>48993.000000</td>\n",
       "      <td>48993.000000</td>\n",
       "      <td>48993.000000</td>\n",
       "      <td>48993.000000</td>\n",
       "    </tr>\n",
       "    <tr>\n",
       "      <th>mean</th>\n",
       "      <td>11.360809</td>\n",
       "      <td>-73.927622</td>\n",
       "      <td>40.712125</td>\n",
       "      <td>-73.926459</td>\n",
       "      <td>40.705343</td>\n",
       "      <td>1.669320</td>\n",
       "      <td>15.666748</td>\n",
       "      <td>6.273100</td>\n",
       "      <td>2011.739371</td>\n",
       "      <td>3.392666</td>\n",
       "      <td>-0.032047</td>\n",
       "    </tr>\n",
       "    <tr>\n",
       "      <th>std</th>\n",
       "      <td>9.657236</td>\n",
       "      <td>2.308100</td>\n",
       "      <td>2.796769</td>\n",
       "      <td>2.308152</td>\n",
       "      <td>2.274072</td>\n",
       "      <td>1.290317</td>\n",
       "      <td>8.659512</td>\n",
       "      <td>3.461119</td>\n",
       "      <td>1.865076</td>\n",
       "      <td>4.662224</td>\n",
       "      <td>0.017849</td>\n",
       "    </tr>\n",
       "    <tr>\n",
       "      <th>min</th>\n",
       "      <td>-5.000000</td>\n",
       "      <td>-75.423848</td>\n",
       "      <td>-74.006893</td>\n",
       "      <td>-75.354559</td>\n",
       "      <td>-74.006377</td>\n",
       "      <td>0.000000</td>\n",
       "      <td>1.000000</td>\n",
       "      <td>1.000000</td>\n",
       "      <td>2009.000000</td>\n",
       "      <td>0.000000</td>\n",
       "      <td>-0.045035</td>\n",
       "    </tr>\n",
       "    <tr>\n",
       "      <th>25%</th>\n",
       "      <td>6.000000</td>\n",
       "      <td>-73.992297</td>\n",
       "      <td>40.736471</td>\n",
       "      <td>-73.991327</td>\n",
       "      <td>40.735863</td>\n",
       "      <td>1.000000</td>\n",
       "      <td>8.000000</td>\n",
       "      <td>3.000000</td>\n",
       "      <td>2010.000000</td>\n",
       "      <td>1.262975</td>\n",
       "      <td>-0.040200</td>\n",
       "    </tr>\n",
       "    <tr>\n",
       "      <th>50%</th>\n",
       "      <td>8.500000</td>\n",
       "      <td>-73.982115</td>\n",
       "      <td>40.753414</td>\n",
       "      <td>-73.980471</td>\n",
       "      <td>40.754089</td>\n",
       "      <td>1.000000</td>\n",
       "      <td>16.000000</td>\n",
       "      <td>6.000000</td>\n",
       "      <td>2012.000000</td>\n",
       "      <td>2.159224</td>\n",
       "      <td>-0.036769</td>\n",
       "    </tr>\n",
       "    <tr>\n",
       "      <th>75%</th>\n",
       "      <td>12.500000</td>\n",
       "      <td>-73.968353</td>\n",
       "      <td>40.767757</td>\n",
       "      <td>-73.965267</td>\n",
       "      <td>40.768482</td>\n",
       "      <td>2.000000</td>\n",
       "      <td>23.000000</td>\n",
       "      <td>9.000000</td>\n",
       "      <td>2013.000000</td>\n",
       "      <td>3.940999</td>\n",
       "      <td>-0.029947</td>\n",
       "    </tr>\n",
       "    <tr>\n",
       "      <th>max</th>\n",
       "      <td>200.000000</td>\n",
       "      <td>40.783472</td>\n",
       "      <td>401.083332</td>\n",
       "      <td>40.851027</td>\n",
       "      <td>43.415190</td>\n",
       "      <td>6.000000</td>\n",
       "      <td>31.000000</td>\n",
       "      <td>12.000000</td>\n",
       "      <td>2015.000000</td>\n",
       "      <td>376.445536</td>\n",
       "      <td>1.396138</td>\n",
       "    </tr>\n",
       "  </tbody>\n",
       "</table>\n",
       "</div>"
      ]
     },
     "execution_count": 172,
     "metadata": {},
     "output_type": "execute_result"
    }
   ],
   "execution_count": 172
  },
  {
   "metadata": {
    "ExecuteTime": {
     "end_time": "2024-06-05T12:48:07.993649Z",
     "start_time": "2024-06-05T12:48:07.987242Z"
    }
   },
   "cell_type": "code",
   "source": [
    "lower_limit = 1.262975\n",
    "upper_limit = 3.940999\n",
    "\n",
    "lower_limit = lower_limit - 1.5*IQR\n",
    "upper_limit = upper_limit + 1.5*IQR"
   ],
   "id": "1634cad67a21899",
   "outputs": [],
   "execution_count": 173
  },
  {
   "metadata": {
    "ExecuteTime": {
     "end_time": "2024-06-05T12:48:08.014321Z",
     "start_time": "2024-06-05T12:48:07.996664Z"
    }
   },
   "cell_type": "code",
   "source": [
    "print(len(df_train_filtered))\n",
    "df_train_filtered = df_train_filtered[ \n",
    "    (df_train_filtered[\"Haversine_distance\"] >lower_limit) & (df_train_filtered[\"Haversine_distance\"] < upper_limit) ]\n",
    "print(len(df_train_filtered))"
   ],
   "id": "4fa254a4360417b5",
   "outputs": [
    {
     "name": "stdout",
     "output_type": "stream",
     "text": [
      "48993\n",
      "44876\n"
     ]
    }
   ],
   "execution_count": 174
  },
  {
   "metadata": {
    "ExecuteTime": {
     "end_time": "2024-06-05T12:48:08.603508Z",
     "start_time": "2024-06-05T12:48:08.017333Z"
    }
   },
   "cell_type": "code",
   "source": "sns.displot(data=df_train_filtered[\"Haversine_distance\"], bins=40)",
   "id": "82f8567c6c188540",
   "outputs": [
    {
     "data": {
      "text/plain": [
       "<seaborn.axisgrid.FacetGrid at 0x1f280967e00>"
      ]
     },
     "execution_count": 175,
     "metadata": {},
     "output_type": "execute_result"
    },
    {
     "data": {
      "text/plain": [
       "<Figure size 500x500 with 1 Axes>"
      ],
      "image/png": "[encoded data removed]"
     },
     "metadata": {},
     "output_type": "display_data"
    }
   ],
   "execution_count": 175
  },
  {
   "metadata": {
    "ExecuteTime": {
     "end_time": "2024-06-05T12:48:08.686657Z",
     "start_time": "2024-06-05T12:48:08.606524Z"
    }
   },
   "cell_type": "code",
   "source": "df_train_filtered.describe()",
   "id": "88dd3581e2336d19",
   "outputs": [
    {
     "data": {
      "text/plain": [
       "        fare_amount  pickup_longitude  pickup_latitude  dropoff_longitude  \\\n",
       "count  44876.000000      44876.000000     44876.000000       44876.000000   \n",
       "mean       9.271572        -73.932799        40.706804         -73.931171   \n",
       "std        5.691394          2.286753         2.249460           2.286900   \n",
       "min       -5.000000        -75.414728       -74.006893         -75.354559   \n",
       "25%        5.700000        -73.992531        40.737312         -73.991624   \n",
       "50%        8.000000        -73.982415        40.753366         -73.981252   \n",
       "75%       11.300000        -73.970123        40.767098         -73.968015   \n",
       "max      200.000000         40.783472        42.160275          40.851027   \n",
       "\n",
       "       dropoff_latitude  passenger_count   pickup_date  pickup_month  \\\n",
       "count      44876.000000     44876.000000  44876.000000  44876.000000   \n",
       "mean          40.706960         1.666882     15.666548      6.263905   \n",
       "std            2.249206         1.289384      8.667972      3.464351   \n",
       "min          -74.006377         0.000000      1.000000      1.000000   \n",
       "25%           40.737308         1.000000      8.000000      3.000000   \n",
       "50%           40.754037         1.000000     16.000000      6.000000   \n",
       "75%           40.767717         2.000000     23.000000      9.000000   \n",
       "max           42.168717         6.000000     31.000000     12.000000   \n",
       "\n",
       "        pickup_year  Haversine_distance       z_score  \n",
       "count  44876.000000        44876.000000  44876.000000  \n",
       "mean    2011.730502            2.453706     -0.035641  \n",
       "std        1.865331            1.692498      0.006480  \n",
       "min     2009.000000            0.000000     -0.045035  \n",
       "25%     2010.000000            1.201647     -0.040435  \n",
       "50%     2012.000000            1.976848     -0.037467  \n",
       "75%     2013.000000            3.298971     -0.032405  \n",
       "max     2015.000000            7.956803     -0.014573  "
      ],
      "text/html": [
       "<div>\n",
       "<style scoped>\n",
       "    .dataframe tbody tr th:only-of-type {\n",
       "        vertical-align: middle;\n",
       "    }\n",
       "\n",
       "    .dataframe tbody tr th {\n",
       "        vertical-align: top;\n",
       "    }\n",
       "\n",
       "    .dataframe thead th {\n",
       "        text-align: right;\n",
       "    }\n",
       "</style>\n",
       "<table border=\"1\" class=\"dataframe\">\n",
       "  <thead>\n",
       "    <tr style=\"text-align: right;\">\n",
       "      <th></th>\n",
       "      <th>fare_amount</th>\n",
       "      <th>pickup_longitude</th>\n",
       "      <th>pickup_latitude</th>\n",
       "      <th>dropoff_longitude</th>\n",
       "      <th>dropoff_latitude</th>\n",
       "      <th>passenger_count</th>\n",
       "      <th>pickup_date</th>\n",
       "      <th>pickup_month</th>\n",
       "      <th>pickup_year</th>\n",
       "      <th>Haversine_distance</th>\n",
       "      <th>z_score</th>\n",
       "    </tr>\n",
       "  </thead>\n",
       "  <tbody>\n",
       "    <tr>\n",
       "      <th>count</th>\n",
       "      <td>44876.000000</td>\n",
       "      <td>44876.000000</td>\n",
       "      <td>44876.000000</td>\n",
       "      <td>44876.000000</td>\n",
       "      <td>44876.000000</td>\n",
       "      <td>44876.000000</td>\n",
       "      <td>44876.000000</td>\n",
       "      <td>44876.000000</td>\n",
       "      <td>44876.000000</td>\n",
       "      <td>44876.000000</td>\n",
       "      <td>44876.000000</td>\n",
       "    </tr>\n",
       "    <tr>\n",
       "      <th>mean</th>\n",
       "      <td>9.271572</td>\n",
       "      <td>-73.932799</td>\n",
       "      <td>40.706804</td>\n",
       "      <td>-73.931171</td>\n",
       "      <td>40.706960</td>\n",
       "      <td>1.666882</td>\n",
       "      <td>15.666548</td>\n",
       "      <td>6.263905</td>\n",
       "      <td>2011.730502</td>\n",
       "      <td>2.453706</td>\n",
       "      <td>-0.035641</td>\n",
       "    </tr>\n",
       "    <tr>\n",
       "      <th>std</th>\n",
       "      <td>5.691394</td>\n",
       "      <td>2.286753</td>\n",
       "      <td>2.249460</td>\n",
       "      <td>2.286900</td>\n",
       "      <td>2.249206</td>\n",
       "      <td>1.289384</td>\n",
       "      <td>8.667972</td>\n",
       "      <td>3.464351</td>\n",
       "      <td>1.865331</td>\n",
       "      <td>1.692498</td>\n",
       "      <td>0.006480</td>\n",
       "    </tr>\n",
       "    <tr>\n",
       "      <th>min</th>\n",
       "      <td>-5.000000</td>\n",
       "      <td>-75.414728</td>\n",
       "      <td>-74.006893</td>\n",
       "      <td>-75.354559</td>\n",
       "      <td>-74.006377</td>\n",
       "      <td>0.000000</td>\n",
       "      <td>1.000000</td>\n",
       "      <td>1.000000</td>\n",
       "      <td>2009.000000</td>\n",
       "      <td>0.000000</td>\n",
       "      <td>-0.045035</td>\n",
       "    </tr>\n",
       "    <tr>\n",
       "      <th>25%</th>\n",
       "      <td>5.700000</td>\n",
       "      <td>-73.992531</td>\n",
       "      <td>40.737312</td>\n",
       "      <td>-73.991624</td>\n",
       "      <td>40.737308</td>\n",
       "      <td>1.000000</td>\n",
       "      <td>8.000000</td>\n",
       "      <td>3.000000</td>\n",
       "      <td>2010.000000</td>\n",
       "      <td>1.201647</td>\n",
       "      <td>-0.040435</td>\n",
       "    </tr>\n",
       "    <tr>\n",
       "      <th>50%</th>\n",
       "      <td>8.000000</td>\n",
       "      <td>-73.982415</td>\n",
       "      <td>40.753366</td>\n",
       "      <td>-73.981252</td>\n",
       "      <td>40.754037</td>\n",
       "      <td>1.000000</td>\n",
       "      <td>16.000000</td>\n",
       "      <td>6.000000</td>\n",
       "      <td>2012.000000</td>\n",
       "      <td>1.976848</td>\n",
       "      <td>-0.037467</td>\n",
       "    </tr>\n",
       "    <tr>\n",
       "      <th>75%</th>\n",
       "      <td>11.300000</td>\n",
       "      <td>-73.970123</td>\n",
       "      <td>40.767098</td>\n",
       "      <td>-73.968015</td>\n",
       "      <td>40.767717</td>\n",
       "      <td>2.000000</td>\n",
       "      <td>23.000000</td>\n",
       "      <td>9.000000</td>\n",
       "      <td>2013.000000</td>\n",
       "      <td>3.298971</td>\n",
       "      <td>-0.032405</td>\n",
       "    </tr>\n",
       "    <tr>\n",
       "      <th>max</th>\n",
       "      <td>200.000000</td>\n",
       "      <td>40.783472</td>\n",
       "      <td>42.160275</td>\n",
       "      <td>40.851027</td>\n",
       "      <td>42.168717</td>\n",
       "      <td>6.000000</td>\n",
       "      <td>31.000000</td>\n",
       "      <td>12.000000</td>\n",
       "      <td>2015.000000</td>\n",
       "      <td>7.956803</td>\n",
       "      <td>-0.014573</td>\n",
       "    </tr>\n",
       "  </tbody>\n",
       "</table>\n",
       "</div>"
      ]
     },
     "execution_count": 176,
     "metadata": {},
     "output_type": "execute_result"
    }
   ],
   "execution_count": 176
  },
  {
   "metadata": {
    "ExecuteTime": {
     "end_time": "2024-06-05T12:48:08.740375Z",
     "start_time": "2024-06-05T12:48:08.689671Z"
    }
   },
   "cell_type": "code",
   "source": [
    "lower_limit_pickup_long = -73.992531\n",
    "upper_limit_pickup_long = -73.970123\n",
    "lower_limit_pickup_lat = 40.737312\n",
    "upper_limit_pickup_lat = 40.767098\n",
    "\n",
    "lower_limit_dropoff_long = -73.991624\n",
    "upper_limit_dropoff_long = -73.968015\n",
    "lower_limit_droppff_lat = 40.737308\n",
    "upper_limit_dropoff_lat = 40.767717\n",
    "\n",
    "IQR_pickup_long = df_train_filtered[\"pickup_longitude\"].quantile(0.75) - df_train_filtered[\"pickup_longitude\"].quantile(0.25)\n",
    "IQR_pickup_lat = df_train_filtered[\"pickup_latitude\"].quantile(0.75) - df_train_filtered[\"pickup_latitude\"].quantile(0.25)\n",
    "IQR_dropoff_long = df_train_filtered[\"dropoff_longitude\"].quantile(0.75) - df_train_filtered[\"dropoff_longitude\"].quantile(0.25)\n",
    "IQR_dropoff_lat = df_train_filtered[\"dropoff_latitude\"].quantile(0.75) - df_train_filtered[\"dropoff_latitude\"].quantile(0.25)\n",
    "print(f\"{IQR_pickup_long},{IQR_pickup_lat} \\n {IQR_dropoff_long}, {IQR_dropoff_lat}\")\n",
    "\n",
    "lower_limit_pickup_long = lower_limit_pickup_long - 1.5*IQR_pickup_long\n",
    "upper_limit_pickup_long = upper_limit_pickup_long + 1.5*IQR_pickup_long\n",
    "lower_limit_pickup_lat = lower_limit_pickup_lat - 1.5*IQR_pickup_lat\n",
    "upper_limit_pickup_lat = upper_limit_pickup_lat + 1.5*IQR_pickup_lat\n",
    "\n",
    "lower_limit_dropoff_long = lower_limit_dropoff_long - 1.5*IQR_dropoff_long\n",
    "upper_limit_dropoff_long = upper_limit_dropoff_long + 1.5*IQR_dropoff_long\n",
    "lower_limit_droppff_lat = lower_limit_droppff_lat - 1.5*IQR_dropoff_lat\n",
    "upper_limit_dropoff_lat = upper_limit_dropoff_lat + 1.5*IQR_dropoff_lat\n",
    "\n",
    "print(len(df_train_filtered))\n",
    "df_train_filtered = df_train_filtered[ \n",
    "    (df_train_filtered[\"pickup_longitude\"] >lower_limit_pickup_long) & (df_train_filtered[\"pickup_longitude\"] < upper_limit_pickup_long) ]\n",
    "df_train_filtered = df_train_filtered[ \n",
    "    (df_train_filtered[\"pickup_latitude\"] >lower_limit_pickup_lat) & (df_train_filtered[\"pickup_latitude\"] < upper_limit_pickup_lat) ]\n",
    "df_train_filtered = df_train_filtered[ \n",
    "    (df_train_filtered[\"dropoff_longitude\"] >lower_limit_dropoff_long) & (df_train_filtered[\"dropoff_longitude\"] < upper_limit_dropoff_long) ]\n",
    "df_train_filtered = df_train_filtered[ \n",
    "    (df_train_filtered[\"dropoff_latitude\"] >lower_limit_droppff_lat) & (df_train_filtered[\"dropoff_latitude\"] < upper_limit_dropoff_lat) ]\n",
    "print(len(df_train_filtered))"
   ],
   "id": "209c35e42eb5112",
   "outputs": [
    {
     "name": "stdout",
     "output_type": "stream",
     "text": [
      "0.02240824999999802,0.02978635485839476 \n",
      " 0.02360925000000691, 0.030409249999998167\n",
      "44876\n",
      "41837\n"
     ]
    }
   ],
   "execution_count": 177
  },
  {
   "metadata": {
    "ExecuteTime": {
     "end_time": "2024-06-05T12:48:08.752037Z",
     "start_time": "2024-06-05T12:48:08.743388Z"
    }
   },
   "cell_type": "code",
   "source": [
    "lower_limit_percentile, upper_limit_percentile = np.percentile(a=df_train[\"Haversine_distance\"],q=[0.5,99.5])\n",
    "print(lower_limit_percentile, upper_limit_percentile)"
   ],
   "id": "ac8920d336c43d42",
   "outputs": [
    {
     "name": "stdout",
     "output_type": "stream",
     "text": [
      "0.0 21.67925433360676\n"
     ]
    }
   ],
   "execution_count": 178
  },
  {
   "metadata": {
    "ExecuteTime": {
     "end_time": "2024-06-05T12:48:08.771351Z",
     "start_time": "2024-06-05T12:48:08.755052Z"
    }
   },
   "cell_type": "code",
   "source": [
    "print(len(df_train))\n",
    "df_train_percentile_filtered = df_train[ (df_train[\"Haversine_distance\"]>lower_limit_percentile) & (df_train[\"Haversine_distance\"]<upper_limit_percentile) ]\n",
    "print(len(df_train_percentile_filtered))"
   ],
   "id": "94f521739fc9c591",
   "outputs": [
    {
     "name": "stdout",
     "output_type": "stream",
     "text": [
      "49045\n",
      "48264\n"
     ]
    }
   ],
   "execution_count": 179
  },
  {
   "metadata": {
    "ExecuteTime": {
     "end_time": "2024-06-05T12:48:09.424906Z",
     "start_time": "2024-06-05T12:48:08.774367Z"
    }
   },
   "cell_type": "code",
   "source": "sns.displot(data=df_train_percentile_filtered[\"Haversine_distance\"],bins=40)",
   "id": "9077b2ded6d753ea",
   "outputs": [
    {
     "data": {
      "text/plain": [
       "<seaborn.axisgrid.FacetGrid at 0x1f2ddc99550>"
      ]
     },
     "execution_count": 180,
     "metadata": {},
     "output_type": "execute_result"
    },
    {
     "data": {
      "text/plain": [
       "<Figure size 500x500 with 1 Axes>"
      ],
      "image/png": "[encoded data removed]"
     },
     "metadata": {},
     "output_type": "display_data"
    }
   ],
   "execution_count": 180
  },
  {
   "metadata": {
    "ExecuteTime": {
     "end_time": "2024-06-05T12:48:09.432826Z",
     "start_time": "2024-06-05T12:48:09.426919Z"
    }
   },
   "cell_type": "code",
   "source": [
    "# lower_limit_percentile_pickup_long, upper_limit_percentile_pickup_long = np.percentile(a=df_train[\"pickup_longitude\"],q=[0.5,99.5])\n",
    "# lower_limit_percentile_pickup_lat, upper_limit_percentile_pickup_lat = np.percentile(a=df_train[\"pickup_latitude\"],q=[0.5,99.5])\n",
    "# lower_limit_percentile_dropoff_long, upper_limit_percentile_dropoff_long = np.percentile(a=df_train[\"dropoff_longitude\"],q=[0.5,99.5])\n",
    "# lower_limit_percentile_dropoff_lat, upper_limit_percentile_dropoff_lat = np.percentile(a=df_train[\"dropoff_latitude\"],q=[0.5,99.5])\n",
    "# \n",
    "# print(len(df_train_percentile_filtered))\n",
    "# df_train_percentile_filtered = df_train_filtered[ (df_train[\"pickup_longitude\"]>lower_limit_percentile_pickup_long) & (df_train[\"pickup_longitude\"]<upper_limit_percentile_pickup_long) ]\n",
    "# df_train_percentile_filtered = df_train_filtered[ (df_train[\"pickup_latitude\"]>lower_limit_percentile_pickup_lat) & (df_train[\"pickup_latitude\"]<upper_limit_percentile_pickup_lat) ]\n",
    "# df_train_percentile_filtered = df_train_filtered[ (df_train[\"dropoff_longitude\"]>lower_limit_percentile_dropoff_long) & (df_train[\"dropoff_longitude\"]<upper_limit_percentile_dropoff_long) ]\n",
    "# df_train_percentile_filtered = df_train_filtered[ (df_train[\"dropoff_latitude\"]>lower_limit_percentile_dropoff_lat) & (df_train[\"dropoff_latitude\"]<upper_limit_percentile_dropoff_lat) ]\n",
    "# print(len(df_train_percentile_filtered))"
   ],
   "id": "7acd84679c0475f8",
   "outputs": [],
   "execution_count": 181
  },
  {
   "metadata": {
    "ExecuteTime": {
     "end_time": "2024-06-05T12:48:09.461457Z",
     "start_time": "2024-06-05T12:48:09.435841Z"
    }
   },
   "cell_type": "code",
   "source": [
    "lower_limit_percentile_pickup_long, upper_limit_percentile_pickup_long = np.percentile(a=df_train[\"pickup_longitude\"], q=[0.5, 99.5])\n",
    "lower_limit_percentile_pickup_lat, upper_limit_percentile_pickup_lat = np.percentile(a=df_train[\"pickup_latitude\"], q=[0.5, 99.5])\n",
    "lower_limit_percentile_dropoff_long, upper_limit_percentile_dropoff_long = np.percentile(a=df_train[\"dropoff_longitude\"], q=[0.5, 99.5])\n",
    "lower_limit_percentile_dropoff_lat, upper_limit_percentile_dropoff_lat = np.percentile(a=df_train[\"dropoff_latitude\"], q=[0.5, 99.5])\n",
    "\n",
    "print(len(df_train_percentile_filtered))\n",
    "\n",
    "mask = (\n",
    "    (df_train[\"pickup_longitude\"] > lower_limit_percentile_pickup_long)\n",
    "    & (df_train[\"pickup_longitude\"] < upper_limit_percentile_pickup_long)\n",
    "    & (df_train[\"pickup_latitude\"] > lower_limit_percentile_pickup_lat)\n",
    "    & (df_train[\"pickup_latitude\"] < upper_limit_percentile_pickup_lat)\n",
    "    & (df_train[\"dropoff_longitude\"] > lower_limit_percentile_dropoff_long)\n",
    "    & (df_train[\"dropoff_longitude\"] < upper_limit_percentile_dropoff_long)\n",
    "    & (df_train[\"dropoff_latitude\"] > lower_limit_percentile_dropoff_lat)\n",
    "    & (df_train[\"dropoff_latitude\"] < upper_limit_percentile_dropoff_lat)\n",
    ")\n",
    "\n",
    "df_train_percentile_filtered = df_train_percentile_filtered.loc[mask]\n",
    "print(len(df_train_percentile_filtered))"
   ],
   "id": "e0212950fca13cd3",
   "outputs": [
    {
     "name": "stdout",
     "output_type": "stream",
     "text": [
      "48264\n",
      "46988\n"
     ]
    }
   ],
   "execution_count": 182
  },
  {
   "metadata": {
    "ExecuteTime": {
     "end_time": "2024-06-05T12:49:17.867607Z",
     "start_time": "2024-06-05T12:48:09.464475Z"
    }
   },
   "cell_type": "code",
   "source": [
    "X_IQR = df_train_filtered[dataset_features]\n",
    "y_IQR = df_train_filtered[\"fare_amount\"]\n",
    "\n",
    "X_percentile = df_train_percentile_filtered[dataset_features]\n",
    "y_percentile = df_train_percentile_filtered[\"fare_amount\"]\n",
    "\n",
    "# train_test_split()\n",
    "\n",
    "X_IQR_train, X_IQR_test, y_IQR_train, y_IQR_test = train_test_split(X_IQR,y_IQR,test_size=0.2,random_state=1)\n",
    "X_percentile_train, X_percentile_test, y_percentile_train, y_percentile_test = train_test_split(X_percentile,y_percentile,random_state=1,test_size=0.2)\n",
    "\n",
    "\n",
    "forest_model_IQR = RandomForestRegressor(random_state=1)\n",
    "forest_model_IQR.fit(X_IQR_train,y_IQR_train)\n",
    "randomforest_predictions_IQR = forest_model.predict(X_IQR_test)\n",
    "print(\"MAE for RandomForest IQR: \", mean_absolute_error(y_IQR_test,randomforest_predictions_IQR))\n",
    "print(\"MSE for Randomforest IQR: \", mean_squared_error(y_IQR_test,randomforest_predictions_IQR))\n",
    "\n",
    "forest_model_percentile = RandomForestRegressor(random_state=1)\n",
    "forest_model_percentile.fit(X_percentile_train,y_percentile_train)\n",
    "randomforest_predictions_percentile = forest_model_percentile.predict(X_percentile_test)\n",
    "print(\"MAE for RandomForest Percentile: \", mean_absolute_error(y_percentile_test,randomforest_predictions_percentile))\n",
    "print(\"MSE for Randomforest Percentile: \", mean_squared_error(y_percentile_test,randomforest_predictions_percentile))"
   ],
   "id": "3e2d156f62dfcd4d",
   "outputs": [
    {
     "name": "stdout",
     "output_type": "stream",
     "text": [
      "MAE for RandomForest IQR:  0.790246163957935\n",
      "MSE for Randomforest IQR:  2.1636221163372364\n",
      "MAE for RandomForest Percentile:  1.824231740795914\n",
      "MSE for Randomforest Percentile:  10.646370604204085\n"
     ]
    }
   ],
   "execution_count": 183
  },
  {
   "metadata": {
    "ExecuteTime": {
     "end_time": "2024-06-05T12:49:21.626790Z",
     "start_time": "2024-06-05T12:49:17.870621Z"
    }
   },
   "cell_type": "code",
   "source": [
    "# THE BETTER ONE IS THE IQR DATAFRAME\n",
    "\n",
    "# Redoing all the models with the IQR dataframe\n",
    "\n",
    "def driver_function_iqr():\n",
    "    for max_leaf_nodes in [5,10,50,100,500,1000,5000,10000]:\n",
    "        mae = get_mae(max_leaf_nodes,X_IQR_train,y_IQR_train, X_IQR_test,y_IQR_test)\n",
    "        mse = get_mse(max_leaf_nodes,X_IQR_train,y_IQR_train, X_IQR_test,y_IQR_test)\n",
    "        print(f\"Max Leaf Nodes: {max_leaf_nodes}\\t MAE: {mae}\\t MSE: {mse}\")\n",
    "\n",
    "driver_function_iqr()\n",
    "\n",
    "#BEST NUMBER OF LEAF NODES IS 100|10"
   ],
   "id": "e38d166e3b0de4c9",
   "outputs": [
    {
     "name": "stdout",
     "output_type": "stream",
     "text": [
      "Max Leaf Nodes: 5\t MAE: 1.995986922539397\t MSE: 9.654559731259992\n",
      "Max Leaf Nodes: 10\t MAE: 1.8355642145311164\t MSE: 8.750266192983977\n",
      "Max Leaf Nodes: 50\t MAE: 1.7238639930406483\t MSE: 9.80872574983448\n",
      "Max Leaf Nodes: 100\t MAE: 1.6832312457969745\t MSE: 9.76395356104334\n",
      "Max Leaf Nodes: 500\t MAE: 1.7681956006227324\t MSE: 13.446510585046001\n",
      "Max Leaf Nodes: 1000\t MAE: 1.830568943115817\t MSE: 14.228510671054137\n",
      "Max Leaf Nodes: 5000\t MAE: 2.099433999268037\t MSE: 16.6016394849394\n",
      "Max Leaf Nodes: 10000\t MAE: 2.2300858711080767\t MSE: 17.228995258147112\n"
     ]
    }
   ],
   "execution_count": 184
  },
  {
   "metadata": {
    "ExecuteTime": {
     "end_time": "2024-06-05T12:49:52.924763Z",
     "start_time": "2024-06-05T12:49:21.629800Z"
    }
   },
   "cell_type": "code",
   "source": [
    "forest_model_IQR = RandomForestRegressor(random_state=1)\n",
    "forest_model_IQR.fit(X_IQR_train,y_IQR_train)\n",
    "randomforest_predictions_IQR = forest_model.predict(X_IQR_test)\n",
    "print(\"MAE for RandomForest IQR: \", mean_absolute_error(y_IQR_test,randomforest_predictions_IQR))\n",
    "print(\"MSE for Randomforest IQR: \", mean_squared_error(y_IQR_test,randomforest_predictions_IQR))"
   ],
   "id": "fbeacce4d6773e6e",
   "outputs": [
    {
     "name": "stdout",
     "output_type": "stream",
     "text": [
      "MAE for RandomForest IQR:  0.790246163957935\n",
      "MSE for Randomforest IQR:  2.1636221163372364\n"
     ]
    }
   ],
   "execution_count": 185
  },
  {
   "metadata": {
    "ExecuteTime": {
     "end_time": "2024-06-05T12:49:52.934162Z",
     "start_time": "2024-06-05T12:49:52.927780Z"
    }
   },
   "cell_type": "code",
   "source": [
    "# from sklearn.model_selection import GridSearchCV\n",
    "# \n",
    "# param_grid = {\n",
    "#     'n_estimators': [100, 200, 300],\n",
    "#     'max_depth': [5, 10, None],\n",
    "#     'min_samples_split': [2, 5, 10],\n",
    "#     'min_samples_leaf': [1, 2, 4],\n",
    "#     'max_features': ['sqrt', 'log2']\n",
    "# }\n",
    "# \n",
    "# forest_model_CV = RandomForestRegressor(random_state=1)\n",
    "# grid_search = GridSearchCV(estimator=forest_model_CV,\n",
    "#                            param_grid=param_grid,\n",
    "#                            cv=5,\n",
    "#                            scoring='neg_mean_absolute_error',\n",
    "#                            n_jobs=-1,\n",
    "#                            verbose=2)\n",
    "# \n",
    "# grid_search.fit(X_IQR_train,y_IQR_train)\n",
    "# print(\"Best hyperparameters: \", grid_search.best_params_)\n",
    "# print(\"Best score: \", -grid_search.best_score_)\n",
    "# \n",
    "# best_model = grid_search.best_estimator_\n",
    "# randomforest_predictions_CV = best_model.predict(X_IQR_test)\n",
    "# print(\"MAE for best Random Forest: \", mean_absolute_error(y_IQR_test, randomforest_predictions))\n",
    "# print(\"MSE for best Random Forest: \", mean_squared_error(y_IQR_test, randomforest_predictions))"
   ],
   "id": "db05b5ce02e057f7",
   "outputs": [],
   "execution_count": 186
  },
  {
   "metadata": {
    "ExecuteTime": {
     "end_time": "2024-06-05T12:49:52.944083Z",
     "start_time": "2024-06-05T12:49:52.937182Z"
    }
   },
   "cell_type": "code",
   "source": [
    "# forest_model_IQR = RandomForestRegressor(max_depth=None, max_features='sqrt', min_samples_leaf=4,min_samples_split=2,n_estimators=300)\n",
    "# forest_model_IQR.fit(X_IQR_train,y_IQR_train)\n",
    "# randomforest_predictions_IQR = forest_model_IQR.predict(X_IQR_test)\n",
    "# print(\"MAE for RandomForest IQR: \", mean_absolute_error(y_IQR_test,randomforest_predictions_IQR))\n",
    "# print(\"MSE for Randomforest IQR: \", mean_squared_error(y_IQR_test,randomforest_predictions_IQR))"
   ],
   "id": "48a19805975766ba",
   "outputs": [],
   "execution_count": 187
  },
  {
   "metadata": {
    "ExecuteTime": {
     "end_time": "2024-06-05T13:09:33.687657Z",
     "start_time": "2024-06-05T13:09:33.082846Z"
    }
   },
   "cell_type": "code",
   "source": [
    "from xgboost import XGBRegressor\n",
    "\n",
    "xg_model = XGBRegressor(n_estimators=500, learning_rate=0.05, n_jobs=-1)\n",
    "xg_model.fit(X_IQR_train, y_IQR_train,\n",
    "             early_stopping_rounds=5, \n",
    "             eval_set=[(X_IQR_test, y_IQR_test)],\n",
    "             verbose=False)\n",
    "xg_predictions = xg_model.predict(X_IQR_test)\n",
    "print(\"MAE: \",mean_absolute_error(y_IQR_test,xg_predictions))\n",
    "print(\"MSE: \",mean_squared_error(y_IQR_test,xg_predictions))"
   ],
   "id": "91a2f52844b911d0",
   "outputs": [
    {
     "name": "stderr",
     "output_type": "stream",
     "text": [
      "C:\\Users\\vishn\\anaconda3\\envs\\oxVer2\\Lib\\site-packages\\xgboost\\sklearn.py:889: UserWarning: `early_stopping_rounds` in `fit` method is deprecated for better compatibility with scikit-learn, use `early_stopping_rounds` in constructor or`set_params` instead.\n",
      "  warnings.warn(\n"
     ]
    },
    {
     "name": "stdout",
     "output_type": "stream",
     "text": [
      "MAE:  1.5459923935449371\n",
      "MSE:  7.371399641994236\n"
     ]
    }
   ],
   "execution_count": 189
  },
  {
   "metadata": {
    "ExecuteTime": {
     "end_time": "2024-06-05T13:20:05.721218Z",
     "start_time": "2024-06-05T13:16:06.261601Z"
    }
   },
   "cell_type": "code",
   "source": [
    "from sklearn.model_selection import cross_val_score\n",
    "\n",
    "r_squared = np.mean(cross_val_score(forest_model_IQR,X_IQR_train,y_IQR_train,cv=5))\n",
    "standard_deviation = np.std(cross_val_score(forest_model_IQR,X_IQR_train,y_IQR_train,cv=5))\n",
    "print(\"r squared = \",r_squared)\n",
    "print(\"standard deviation = \", standard_deviation)"
   ],
   "id": "486617d64170ccc4",
   "outputs": [
    {
     "name": "stdout",
     "output_type": "stream",
     "text": [
      "r squared =  0.5404186307370128\n",
      "standard deviation =  0.019729518767674696\n"
     ]
    }
   ],
   "execution_count": 190
  },
  {
   "metadata": {},
   "cell_type": "code",
   "outputs": [],
   "execution_count": null,
   "source": "",
   "id": "65fc8d3e40468192"
  }
 ],
 "metadata": {
  "kernelspec": {
   "display_name": "Python 3 (ipykernel)",
   "language": "python",
   "name": "python3"
  },
  "language_info": {
   "codemirror_mode": {
    "name": "ipython",
    "version": 3
   },
   "file_extension": ".py",
   "mimetype": "text/x-python",
   "name": "python",
   "nbconvert_exporter": "python",
   "pygments_lexer": "ipython3",
   "version": "3.12.3"
  }
 },
 "nbformat": 4,
 "nbformat_minor": 5
}
