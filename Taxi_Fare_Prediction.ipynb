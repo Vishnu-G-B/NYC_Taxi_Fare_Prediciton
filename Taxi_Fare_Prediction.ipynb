{
 "cells": [
  {
   "cell_type": "code",
   "id": "dd699964",
   "metadata": {
    "ExecuteTime": {
     "end_time": "2024-06-03T18:52:33.402761Z",
     "start_time": "2024-06-03T18:52:31.669389Z"
    }
   },
   "source": [
    "import numpy as np\n",
    "import pandas as pd\n",
    "import matplotlib.pyplot as plt\n",
    "\n"
   ],
   "outputs": [],
   "execution_count": 1
  },
  {
   "cell_type": "code",
   "id": "dea770c2",
   "metadata": {
    "ExecuteTime": {
     "end_time": "2024-06-03T18:52:33.544086Z",
     "start_time": "2024-06-03T18:52:33.406301Z"
    }
   },
   "source": [
    "df_train = pd.read_csv(\"./train.csv/train.csv\",nrows=50000)\n",
    "df_train.head()\n",
    "df_train.info()\n",
    "df_train.shape"
   ],
   "outputs": [
    {
     "name": "stdout",
     "output_type": "stream",
     "text": [
      "<class 'pandas.core.frame.DataFrame'>\n",
      "RangeIndex: 50000 entries, 0 to 49999\n",
      "Data columns (total 8 columns):\n",
      " #   Column             Non-Null Count  Dtype  \n",
      "---  ------             --------------  -----  \n",
      " 0   key                50000 non-null  object \n",
      " 1   fare_amount        50000 non-null  float64\n",
      " 2   pickup_datetime    50000 non-null  object \n",
      " 3   pickup_longitude   50000 non-null  float64\n",
      " 4   pickup_latitude    50000 non-null  float64\n",
      " 5   dropoff_longitude  50000 non-null  float64\n",
      " 6   dropoff_latitude   50000 non-null  float64\n",
      " 7   passenger_count    50000 non-null  int64  \n",
      "dtypes: float64(5), int64(1), object(2)\n",
      "memory usage: 3.1+ MB\n"
     ]
    },
    {
     "data": {
      "text/plain": [
       "(50000, 8)"
      ]
     },
     "execution_count": 2,
     "metadata": {},
     "output_type": "execute_result"
    }
   ],
   "execution_count": 2
  },
  {
   "cell_type": "code",
   "id": "12c2deaf028909f4",
   "metadata": {
    "ExecuteTime": {
     "end_time": "2024-06-03T18:52:33.594511Z",
     "start_time": "2024-06-03T18:52:33.546098Z"
    }
   },
   "source": [
    "df_train.describe()"
   ],
   "outputs": [
    {
     "data": {
      "text/plain": [
       "        fare_amount  pickup_longitude  pickup_latitude  dropoff_longitude  \\\n",
       "count  50000.000000      50000.000000     50000.000000       50000.000000   \n",
       "mean      11.364171        -72.509756        39.933759         -72.504616   \n",
       "std        9.685557         10.393860         6.224857          10.407570   \n",
       "min       -5.000000        -75.423848       -74.006893         -84.654241   \n",
       "25%        6.000000        -73.992062        40.734880         -73.991152   \n",
       "50%        8.500000        -73.981840        40.752678         -73.980082   \n",
       "75%       12.500000        -73.967148        40.767360         -73.963584   \n",
       "max      200.000000         40.783472       401.083332          40.851027   \n",
       "\n",
       "       dropoff_latitude  passenger_count  \n",
       "count      50000.000000     50000.000000  \n",
       "mean          39.926251         1.667840  \n",
       "std            6.014737         1.289195  \n",
       "min          -74.006377         0.000000  \n",
       "25%           40.734372         1.000000  \n",
       "50%           40.753372         1.000000  \n",
       "75%           40.768167         2.000000  \n",
       "max           43.415190         6.000000  "
      ],
      "text/html": [
       "<div>\n",
       "<style scoped>\n",
       "    .dataframe tbody tr th:only-of-type {\n",
       "        vertical-align: middle;\n",
       "    }\n",
       "\n",
       "    .dataframe tbody tr th {\n",
       "        vertical-align: top;\n",
       "    }\n",
       "\n",
       "    .dataframe thead th {\n",
       "        text-align: right;\n",
       "    }\n",
       "</style>\n",
       "<table border=\"1\" class=\"dataframe\">\n",
       "  <thead>\n",
       "    <tr style=\"text-align: right;\">\n",
       "      <th></th>\n",
       "      <th>fare_amount</th>\n",
       "      <th>pickup_longitude</th>\n",
       "      <th>pickup_latitude</th>\n",
       "      <th>dropoff_longitude</th>\n",
       "      <th>dropoff_latitude</th>\n",
       "      <th>passenger_count</th>\n",
       "    </tr>\n",
       "  </thead>\n",
       "  <tbody>\n",
       "    <tr>\n",
       "      <th>count</th>\n",
       "      <td>50000.000000</td>\n",
       "      <td>50000.000000</td>\n",
       "      <td>50000.000000</td>\n",
       "      <td>50000.000000</td>\n",
       "      <td>50000.000000</td>\n",
       "      <td>50000.000000</td>\n",
       "    </tr>\n",
       "    <tr>\n",
       "      <th>mean</th>\n",
       "      <td>11.364171</td>\n",
       "      <td>-72.509756</td>\n",
       "      <td>39.933759</td>\n",
       "      <td>-72.504616</td>\n",
       "      <td>39.926251</td>\n",
       "      <td>1.667840</td>\n",
       "    </tr>\n",
       "    <tr>\n",
       "      <th>std</th>\n",
       "      <td>9.685557</td>\n",
       "      <td>10.393860</td>\n",
       "      <td>6.224857</td>\n",
       "      <td>10.407570</td>\n",
       "      <td>6.014737</td>\n",
       "      <td>1.289195</td>\n",
       "    </tr>\n",
       "    <tr>\n",
       "      <th>min</th>\n",
       "      <td>-5.000000</td>\n",
       "      <td>-75.423848</td>\n",
       "      <td>-74.006893</td>\n",
       "      <td>-84.654241</td>\n",
       "      <td>-74.006377</td>\n",
       "      <td>0.000000</td>\n",
       "    </tr>\n",
       "    <tr>\n",
       "      <th>25%</th>\n",
       "      <td>6.000000</td>\n",
       "      <td>-73.992062</td>\n",
       "      <td>40.734880</td>\n",
       "      <td>-73.991152</td>\n",
       "      <td>40.734372</td>\n",
       "      <td>1.000000</td>\n",
       "    </tr>\n",
       "    <tr>\n",
       "      <th>50%</th>\n",
       "      <td>8.500000</td>\n",
       "      <td>-73.981840</td>\n",
       "      <td>40.752678</td>\n",
       "      <td>-73.980082</td>\n",
       "      <td>40.753372</td>\n",
       "      <td>1.000000</td>\n",
       "    </tr>\n",
       "    <tr>\n",
       "      <th>75%</th>\n",
       "      <td>12.500000</td>\n",
       "      <td>-73.967148</td>\n",
       "      <td>40.767360</td>\n",
       "      <td>-73.963584</td>\n",
       "      <td>40.768167</td>\n",
       "      <td>2.000000</td>\n",
       "    </tr>\n",
       "    <tr>\n",
       "      <th>max</th>\n",
       "      <td>200.000000</td>\n",
       "      <td>40.783472</td>\n",
       "      <td>401.083332</td>\n",
       "      <td>40.851027</td>\n",
       "      <td>43.415190</td>\n",
       "      <td>6.000000</td>\n",
       "    </tr>\n",
       "  </tbody>\n",
       "</table>\n",
       "</div>"
      ]
     },
     "execution_count": 3,
     "metadata": {},
     "output_type": "execute_result"
    }
   ],
   "execution_count": 3
  },
  {
   "cell_type": "code",
   "id": "e63463c04c7a488e",
   "metadata": {
    "ExecuteTime": {
     "end_time": "2024-06-03T18:52:33.612334Z",
     "start_time": "2024-06-03T18:52:33.596523Z"
    }
   },
   "source": [
    "df_train.isnull().sum()"
   ],
   "outputs": [
    {
     "data": {
      "text/plain": [
       "key                  0\n",
       "fare_amount          0\n",
       "pickup_datetime      0\n",
       "pickup_longitude     0\n",
       "pickup_latitude      0\n",
       "dropoff_longitude    0\n",
       "dropoff_latitude     0\n",
       "passenger_count      0\n",
       "dtype: int64"
      ]
     },
     "execution_count": 4,
     "metadata": {},
     "output_type": "execute_result"
    }
   ],
   "execution_count": 4
  },
  {
   "cell_type": "code",
   "id": "994ba55413895c1b",
   "metadata": {
    "ExecuteTime": {
     "end_time": "2024-06-03T18:52:33.640049Z",
     "start_time": "2024-06-03T18:52:33.617347Z"
    }
   },
   "source": [
    "df_train.dropna(inplace=True, axis=0)\n",
    "df_train.isnull().sum()"
   ],
   "outputs": [
    {
     "data": {
      "text/plain": [
       "key                  0\n",
       "fare_amount          0\n",
       "pickup_datetime      0\n",
       "pickup_longitude     0\n",
       "pickup_latitude      0\n",
       "dropoff_longitude    0\n",
       "dropoff_latitude     0\n",
       "passenger_count      0\n",
       "dtype: int64"
      ]
     },
     "execution_count": 5,
     "metadata": {},
     "output_type": "execute_result"
    }
   ],
   "execution_count": 5
  },
  {
   "cell_type": "code",
   "id": "794fec4b2d89453e",
   "metadata": {
    "ExecuteTime": {
     "end_time": "2024-06-03T18:52:33.651653Z",
     "start_time": "2024-06-03T18:52:33.642061Z"
    }
   },
   "source": [
    "print(len(df_train[df_train[\"pickup_longitude\"]==0]))"
   ],
   "outputs": [
    {
     "name": "stdout",
     "output_type": "stream",
     "text": [
      "955\n"
     ]
    }
   ],
   "execution_count": 6
  },
  {
   "cell_type": "code",
   "id": "e20e2fbe3affdca9",
   "metadata": {
    "ExecuteTime": {
     "end_time": "2024-06-03T18:52:33.669642Z",
     "start_time": "2024-06-03T18:52:33.654664Z"
    }
   },
   "source": [
    "df_train = df_train.drop(df_train[df_train[\"pickup_longitude\"]==0].index)"
   ],
   "outputs": [],
   "execution_count": 7
  },
  {
   "cell_type": "code",
   "id": "aed711da5c1d985e",
   "metadata": {
    "ExecuteTime": {
     "end_time": "2024-06-03T18:52:35.117497Z",
     "start_time": "2024-06-03T18:52:33.672658Z"
    }
   },
   "source": [
    "df_train['pickup_datetime'] = pd.to_datetime(df_train['pickup_datetime'])"
   ],
   "outputs": [],
   "execution_count": 8
  },
  {
   "cell_type": "code",
   "id": "c0d59a2c6ec5d128",
   "metadata": {
    "ExecuteTime": {
     "end_time": "2024-06-03T18:52:35.140567Z",
     "start_time": "2024-06-03T18:52:35.119508Z"
    }
   },
   "source": [
    "df_train.head()\n"
   ],
   "outputs": [
    {
     "data": {
      "text/plain": [
       "                             key  fare_amount           pickup_datetime  \\\n",
       "0    2009-06-15 17:26:21.0000001          4.5 2009-06-15 17:26:21+00:00   \n",
       "1    2010-01-05 16:52:16.0000002         16.9 2010-01-05 16:52:16+00:00   \n",
       "2   2011-08-18 00:35:00.00000049          5.7 2011-08-18 00:35:00+00:00   \n",
       "3    2012-04-21 04:30:42.0000001          7.7 2012-04-21 04:30:42+00:00   \n",
       "4  2010-03-09 07:51:00.000000135          5.3 2010-03-09 07:51:00+00:00   \n",
       "\n",
       "   pickup_longitude  pickup_latitude  dropoff_longitude  dropoff_latitude  \\\n",
       "0        -73.844311        40.721319         -73.841610         40.712278   \n",
       "1        -74.016048        40.711303         -73.979268         40.782004   \n",
       "2        -73.982738        40.761270         -73.991242         40.750562   \n",
       "3        -73.987130        40.733143         -73.991567         40.758092   \n",
       "4        -73.968095        40.768008         -73.956655         40.783762   \n",
       "\n",
       "   passenger_count  \n",
       "0                1  \n",
       "1                1  \n",
       "2                2  \n",
       "3                1  \n",
       "4                1  "
      ],
      "text/html": [
       "<div>\n",
       "<style scoped>\n",
       "    .dataframe tbody tr th:only-of-type {\n",
       "        vertical-align: middle;\n",
       "    }\n",
       "\n",
       "    .dataframe tbody tr th {\n",
       "        vertical-align: top;\n",
       "    }\n",
       "\n",
       "    .dataframe thead th {\n",
       "        text-align: right;\n",
       "    }\n",
       "</style>\n",
       "<table border=\"1\" class=\"dataframe\">\n",
       "  <thead>\n",
       "    <tr style=\"text-align: right;\">\n",
       "      <th></th>\n",
       "      <th>key</th>\n",
       "      <th>fare_amount</th>\n",
       "      <th>pickup_datetime</th>\n",
       "      <th>pickup_longitude</th>\n",
       "      <th>pickup_latitude</th>\n",
       "      <th>dropoff_longitude</th>\n",
       "      <th>dropoff_latitude</th>\n",
       "      <th>passenger_count</th>\n",
       "    </tr>\n",
       "  </thead>\n",
       "  <tbody>\n",
       "    <tr>\n",
       "      <th>0</th>\n",
       "      <td>2009-06-15 17:26:21.0000001</td>\n",
       "      <td>4.5</td>\n",
       "      <td>2009-06-15 17:26:21+00:00</td>\n",
       "      <td>-73.844311</td>\n",
       "      <td>40.721319</td>\n",
       "      <td>-73.841610</td>\n",
       "      <td>40.712278</td>\n",
       "      <td>1</td>\n",
       "    </tr>\n",
       "    <tr>\n",
       "      <th>1</th>\n",
       "      <td>2010-01-05 16:52:16.0000002</td>\n",
       "      <td>16.9</td>\n",
       "      <td>2010-01-05 16:52:16+00:00</td>\n",
       "      <td>-74.016048</td>\n",
       "      <td>40.711303</td>\n",
       "      <td>-73.979268</td>\n",
       "      <td>40.782004</td>\n",
       "      <td>1</td>\n",
       "    </tr>\n",
       "    <tr>\n",
       "      <th>2</th>\n",
       "      <td>2011-08-18 00:35:00.00000049</td>\n",
       "      <td>5.7</td>\n",
       "      <td>2011-08-18 00:35:00+00:00</td>\n",
       "      <td>-73.982738</td>\n",
       "      <td>40.761270</td>\n",
       "      <td>-73.991242</td>\n",
       "      <td>40.750562</td>\n",
       "      <td>2</td>\n",
       "    </tr>\n",
       "    <tr>\n",
       "      <th>3</th>\n",
       "      <td>2012-04-21 04:30:42.0000001</td>\n",
       "      <td>7.7</td>\n",
       "      <td>2012-04-21 04:30:42+00:00</td>\n",
       "      <td>-73.987130</td>\n",
       "      <td>40.733143</td>\n",
       "      <td>-73.991567</td>\n",
       "      <td>40.758092</td>\n",
       "      <td>1</td>\n",
       "    </tr>\n",
       "    <tr>\n",
       "      <th>4</th>\n",
       "      <td>2010-03-09 07:51:00.000000135</td>\n",
       "      <td>5.3</td>\n",
       "      <td>2010-03-09 07:51:00+00:00</td>\n",
       "      <td>-73.968095</td>\n",
       "      <td>40.768008</td>\n",
       "      <td>-73.956655</td>\n",
       "      <td>40.783762</td>\n",
       "      <td>1</td>\n",
       "    </tr>\n",
       "  </tbody>\n",
       "</table>\n",
       "</div>"
      ]
     },
     "execution_count": 9,
     "metadata": {},
     "output_type": "execute_result"
    }
   ],
   "execution_count": 9
  },
  {
   "cell_type": "code",
   "id": "6ea96d99c841848",
   "metadata": {
    "ExecuteTime": {
     "end_time": "2024-06-03T18:52:35.156572Z",
     "start_time": "2024-06-03T18:52:35.143581Z"
    }
   },
   "source": [
    "df_train.loc[:,'pickup_date'] = df_train['pickup_datetime'].dt.day"
   ],
   "outputs": [],
   "execution_count": 10
  },
  {
   "cell_type": "code",
   "id": "c7ac613d33e15ca6",
   "metadata": {
    "ExecuteTime": {
     "end_time": "2024-06-03T18:52:35.178873Z",
     "start_time": "2024-06-03T18:52:35.160585Z"
    }
   },
   "source": [
    "df_train.loc[:, 'pickup_month'] = df_train['pickup_datetime'].dt.month\n",
    "df_train.loc[:, 'pickup_year'] = df_train['pickup_datetime'].dt.year"
   ],
   "outputs": [],
   "execution_count": 11
  },
  {
   "cell_type": "code",
   "id": "6669aebadf65871f",
   "metadata": {
    "ExecuteTime": {
     "end_time": "2024-06-03T18:52:35.204485Z",
     "start_time": "2024-06-03T18:52:35.181887Z"
    }
   },
   "source": [
    "df_train.head()"
   ],
   "outputs": [
    {
     "data": {
      "text/plain": [
       "                             key  fare_amount           pickup_datetime  \\\n",
       "0    2009-06-15 17:26:21.0000001          4.5 2009-06-15 17:26:21+00:00   \n",
       "1    2010-01-05 16:52:16.0000002         16.9 2010-01-05 16:52:16+00:00   \n",
       "2   2011-08-18 00:35:00.00000049          5.7 2011-08-18 00:35:00+00:00   \n",
       "3    2012-04-21 04:30:42.0000001          7.7 2012-04-21 04:30:42+00:00   \n",
       "4  2010-03-09 07:51:00.000000135          5.3 2010-03-09 07:51:00+00:00   \n",
       "\n",
       "   pickup_longitude  pickup_latitude  dropoff_longitude  dropoff_latitude  \\\n",
       "0        -73.844311        40.721319         -73.841610         40.712278   \n",
       "1        -74.016048        40.711303         -73.979268         40.782004   \n",
       "2        -73.982738        40.761270         -73.991242         40.750562   \n",
       "3        -73.987130        40.733143         -73.991567         40.758092   \n",
       "4        -73.968095        40.768008         -73.956655         40.783762   \n",
       "\n",
       "   passenger_count  pickup_date  pickup_month  pickup_year  \n",
       "0                1           15             6         2009  \n",
       "1                1            5             1         2010  \n",
       "2                2           18             8         2011  \n",
       "3                1           21             4         2012  \n",
       "4                1            9             3         2010  "
      ],
      "text/html": [
       "<div>\n",
       "<style scoped>\n",
       "    .dataframe tbody tr th:only-of-type {\n",
       "        vertical-align: middle;\n",
       "    }\n",
       "\n",
       "    .dataframe tbody tr th {\n",
       "        vertical-align: top;\n",
       "    }\n",
       "\n",
       "    .dataframe thead th {\n",
       "        text-align: right;\n",
       "    }\n",
       "</style>\n",
       "<table border=\"1\" class=\"dataframe\">\n",
       "  <thead>\n",
       "    <tr style=\"text-align: right;\">\n",
       "      <th></th>\n",
       "      <th>key</th>\n",
       "      <th>fare_amount</th>\n",
       "      <th>pickup_datetime</th>\n",
       "      <th>pickup_longitude</th>\n",
       "      <th>pickup_latitude</th>\n",
       "      <th>dropoff_longitude</th>\n",
       "      <th>dropoff_latitude</th>\n",
       "      <th>passenger_count</th>\n",
       "      <th>pickup_date</th>\n",
       "      <th>pickup_month</th>\n",
       "      <th>pickup_year</th>\n",
       "    </tr>\n",
       "  </thead>\n",
       "  <tbody>\n",
       "    <tr>\n",
       "      <th>0</th>\n",
       "      <td>2009-06-15 17:26:21.0000001</td>\n",
       "      <td>4.5</td>\n",
       "      <td>2009-06-15 17:26:21+00:00</td>\n",
       "      <td>-73.844311</td>\n",
       "      <td>40.721319</td>\n",
       "      <td>-73.841610</td>\n",
       "      <td>40.712278</td>\n",
       "      <td>1</td>\n",
       "      <td>15</td>\n",
       "      <td>6</td>\n",
       "      <td>2009</td>\n",
       "    </tr>\n",
       "    <tr>\n",
       "      <th>1</th>\n",
       "      <td>2010-01-05 16:52:16.0000002</td>\n",
       "      <td>16.9</td>\n",
       "      <td>2010-01-05 16:52:16+00:00</td>\n",
       "      <td>-74.016048</td>\n",
       "      <td>40.711303</td>\n",
       "      <td>-73.979268</td>\n",
       "      <td>40.782004</td>\n",
       "      <td>1</td>\n",
       "      <td>5</td>\n",
       "      <td>1</td>\n",
       "      <td>2010</td>\n",
       "    </tr>\n",
       "    <tr>\n",
       "      <th>2</th>\n",
       "      <td>2011-08-18 00:35:00.00000049</td>\n",
       "      <td>5.7</td>\n",
       "      <td>2011-08-18 00:35:00+00:00</td>\n",
       "      <td>-73.982738</td>\n",
       "      <td>40.761270</td>\n",
       "      <td>-73.991242</td>\n",
       "      <td>40.750562</td>\n",
       "      <td>2</td>\n",
       "      <td>18</td>\n",
       "      <td>8</td>\n",
       "      <td>2011</td>\n",
       "    </tr>\n",
       "    <tr>\n",
       "      <th>3</th>\n",
       "      <td>2012-04-21 04:30:42.0000001</td>\n",
       "      <td>7.7</td>\n",
       "      <td>2012-04-21 04:30:42+00:00</td>\n",
       "      <td>-73.987130</td>\n",
       "      <td>40.733143</td>\n",
       "      <td>-73.991567</td>\n",
       "      <td>40.758092</td>\n",
       "      <td>1</td>\n",
       "      <td>21</td>\n",
       "      <td>4</td>\n",
       "      <td>2012</td>\n",
       "    </tr>\n",
       "    <tr>\n",
       "      <th>4</th>\n",
       "      <td>2010-03-09 07:51:00.000000135</td>\n",
       "      <td>5.3</td>\n",
       "      <td>2010-03-09 07:51:00+00:00</td>\n",
       "      <td>-73.968095</td>\n",
       "      <td>40.768008</td>\n",
       "      <td>-73.956655</td>\n",
       "      <td>40.783762</td>\n",
       "      <td>1</td>\n",
       "      <td>9</td>\n",
       "      <td>3</td>\n",
       "      <td>2010</td>\n",
       "    </tr>\n",
       "  </tbody>\n",
       "</table>\n",
       "</div>"
      ]
     },
     "execution_count": 12,
     "metadata": {},
     "output_type": "execute_result"
    }
   ],
   "execution_count": 12
  },
  {
   "cell_type": "code",
   "id": "219875e186e3a976",
   "metadata": {
    "ExecuteTime": {
     "end_time": "2024-06-03T18:52:36.696280Z",
     "start_time": "2024-06-03T18:52:35.208511Z"
    }
   },
   "source": [
    "# Haversine distance \n",
    "from math import cos, asin, sqrt, pi\n",
    "\n",
    "def distance(lat1, lon1, lat2, lon2):\n",
    "    r = 6371\n",
    "    p = pi / 180\n",
    "\n",
    "    a = 0.5 - cos((lat2-lat1)*p)/2 + cos(lat1*p) * cos(lat2*p) * (1-cos((lon2-lon1)*p))/2\n",
    "    return 2 * r * asin(sqrt(a))\n",
    "\n",
    "df_train[\"Haversine_distance\"] = df_train.apply(lambda row: distance(row['pickup_latitude'],row['pickup_longitude'],row['dropoff_latitude'],row['dropoff_longitude']), axis=1)\n"
   ],
   "outputs": [],
   "execution_count": 13
  },
  {
   "cell_type": "code",
   "id": "cb68027a1f1bc565",
   "metadata": {
    "ExecuteTime": {
     "end_time": "2024-06-03T18:52:36.710733Z",
     "start_time": "2024-06-03T18:52:36.703288Z"
    }
   },
   "source": [
    "len(df_train)"
   ],
   "outputs": [
    {
     "data": {
      "text/plain": [
       "49045"
      ]
     },
     "execution_count": 14,
     "metadata": {},
     "output_type": "execute_result"
    }
   ],
   "execution_count": 14
  },
  {
   "cell_type": "code",
   "id": "dedfd4db6f775225",
   "metadata": {
    "ExecuteTime": {
     "end_time": "2024-06-03T18:52:36.730040Z",
     "start_time": "2024-06-03T18:52:36.713746Z"
    }
   },
   "source": [
    "print(df_train['Haversine_distance'].median(),\n",
    "df_train['Haversine_distance'].mean(),\n",
    "df_train['Haversine_distance'].mode())"
   ],
   "outputs": [
    {
     "name": "stdout",
     "output_type": "stream",
     "text": [
      "2.162233839130312 11.76349130528574 0    0.0\n",
      "Name: Haversine_distance, dtype: float64\n"
     ]
    }
   ],
   "execution_count": 15
  },
  {
   "cell_type": "code",
   "id": "2c00be07ba1bb032",
   "metadata": {
    "ExecuteTime": {
     "end_time": "2024-06-03T18:52:40.068304Z",
     "start_time": "2024-06-03T18:52:36.733064Z"
    }
   },
   "source": [
    "# import osmnx as ox\n",
    "# import networkx as nx"
   ],
   "outputs": [],
   "execution_count": 16
  },
  {
   "cell_type": "code",
   "id": "55b5c3b0ba02a57a",
   "metadata": {
    "ExecuteTime": {
     "end_time": "2024-06-03T18:52:40.076038Z",
     "start_time": "2024-06-03T18:52:40.070322Z"
    }
   },
   "source": [
    "# This is to save the NY map as a graph I think\n",
    "# city = [\n",
    "#     {\n",
    "#         \"city\": \"New York\",\n",
    "#         \"state\": \"New York\",\n",
    "#         \"country\": \"USA\",\n",
    "#     }\n",
    "# ]\n",
    "# NY_graph = ox.graph_from_place(city, network_type='drive')"
   ],
   "outputs": [],
   "execution_count": 17
  },
  {
   "cell_type": "code",
   "id": "67ce920f9e882047",
   "metadata": {
    "ExecuteTime": {
     "end_time": "2024-06-03T18:52:40.084814Z",
     "start_time": "2024-06-03T18:52:40.079056Z"
    }
   },
   "source": [
    "# NY_graph2 = ox.graph_from_place('New York, USA', network_type='drive_service')"
   ],
   "outputs": [],
   "execution_count": 18
  },
  {
   "cell_type": "code",
   "id": "ef38f22e1284c0d3",
   "metadata": {
    "ExecuteTime": {
     "end_time": "2024-06-03T18:52:40.093805Z",
     "start_time": "2024-06-03T18:52:40.087830Z"
    }
   },
   "source": [
    "# ox.save_graphml(NY_graph, 'NY1.graphml')\n",
    "# ox.save_graphml(NY_graph2, 'NY2.graphml')"
   ],
   "outputs": [],
   "execution_count": 19
  },
  {
   "cell_type": "code",
   "id": "d9397b7fd83f1e8",
   "metadata": {},
   "source": [
    "# import os\n",
    "# \n",
    "# # print(os.path.isfile(\"./NY1.graphml\") and  os.path.isfile(\"./NY2.graphml\"))\n",
    "# \n",
    "# if not (os.path.isfile(\"./NY1.graphml\") and os.path.isfile(\"./NY2.graphml\")):\n",
    "#     city = [\n",
    "#         {\n",
    "#             \"city\": \"New York\",\n",
    "#             \"state\": \"New York\",\n",
    "#             \"country\": \"USA\",\n",
    "#         }\n",
    "#     ]\n",
    "#     NY_graph = ox.graph_from_place(city, network_type='drive')\n",
    "#     ox.save_graphml(NY_graph, 'NY1.graphml')\n",
    "# \n",
    "#     NY_graph2 = ox.graph_from_place('New York, USA', network_type='drive_service')\n",
    "#     ox.save_graphml(NY_graph2, 'NY2.graphml')\n",
    "# \n",
    "#     print(\"Graphs GENERATED successfully\")\n",
    "# else:\n",
    "#     NY_graph = ox.load_graphml('NY1.graphml')\n",
    "#     NY_graph2 = ox.load_graphml('NY2.graphml')\n",
    "#     print(\"Graphs LOADED successfully\")"
   ],
   "outputs": [],
   "execution_count": null
  },
  {
   "cell_type": "code",
   "id": "d550c89153952b5c",
   "metadata": {
    "ExecuteTime": {
     "end_time": "2024-06-03T18:53:18.713103Z",
     "start_time": "2024-06-03T18:53:18.708312Z"
    }
   },
   "source": [
    "# NY_graph\n",
    "# NY_graph2"
   ],
   "outputs": [],
   "execution_count": 21
  },
  {
   "cell_type": "code",
   "id": "77927adc29b526ef",
   "metadata": {
    "ExecuteTime": {
     "end_time": "2024-06-03T18:53:18.725866Z",
     "start_time": "2024-06-03T18:53:18.715114Z"
    }
   },
   "source": [
    "# start_graph_node = ox.utils.get_nearest_node(NY_graph,(40.767937, -73.982155))\n",
    "# end_graph_node = ox.utils.get_nearest_node(NY_graph,(40.765602, -73.964630))\n",
    "\n",
    "# get_nearest_node is deprecated i think"
   ],
   "outputs": [],
   "execution_count": 22
  },
  {
   "cell_type": "code",
   "id": "7d23358f908b6c0e",
   "metadata": {
    "ExecuteTime": {
     "end_time": "2024-06-03T18:53:18.734781Z",
     "start_time": "2024-06-03T18:53:18.728883Z"
    }
   },
   "source": [
    "# start_graph_node = ox.nearest_nodes(NY_graph,-73.982155,40.767937 ,return_dist=True)\n",
    "# end_graph_node = ox.nearest_nodes(NY_graph,-73.982155,40.765602,return_dist=True)\n",
    "\n",
    "# Syntax: nearest_nodes(graph_obj, longitude value, latitude value, if we want the distance or not)"
   ],
   "outputs": [],
   "execution_count": 23
  },
  {
   "cell_type": "code",
   "id": "e3f5b1dbdf00a12b",
   "metadata": {
    "ExecuteTime": {
     "end_time": "2024-06-03T18:53:18.753080Z",
     "start_time": "2024-06-03T18:53:18.748186Z"
    }
   },
   "source": [
    "# import folium\n",
    "\n",
    "# m = ox.plot_graph_folium(NY_graph)\n",
    "# m.save('NY1.html')\n",
    "\n",
    "# m2 = ox.plot_graph_folium(NY_graph2)\n",
    "# m2.save('NY2.html')\n",
    "\n",
    "# folium is bad use GeoPanda or smthng\n",
    "# import geopandas as gpd"
   ],
   "outputs": [],
   "execution_count": 25
  },
  {
   "cell_type": "code",
   "id": "291bd5214343c823",
   "metadata": {
    "ExecuteTime": {
     "end_time": "2024-06-03T18:53:18.762821Z",
     "start_time": "2024-06-03T18:53:18.756093Z"
    }
   },
   "source": [
    "# THIS METHOD IS IRRELEVANT TAKES TOO MUCH TIME\n",
    "# from functools import lru_cache\n",
    "# \n",
    "# noPathCounter = 0\n",
    "# @lru_cache(maxsize=10000)\n",
    "# def get_road_dist(graph_obj, long1, lat1, long2, lat2):\n",
    "#     global noPathCounter\n",
    "#     start_graph_node,start_node_dist = ox.nearest_nodes(graph_obj,long1,lat1,return_dist=True)\n",
    "#     end_graph_node,end_node_dist = ox.nearest_nodes(graph_obj,long2,lat2,return_dist=True)\n",
    "# \n",
    "#     # distance = ox.shortest_path(graph_obj,start_graph_node,end_graph_node,weight=\"length\", )\n",
    "#     try:\n",
    "#         shortest_distance = nx.shortest_path_length(graph_obj,start_graph_node,end_graph_node)\n",
    "#         # print(\"shortest path found for node:\",start_graph_node,end_graph_node)\n",
    "#         return shortest_distance +start_node_dist + end_node_dist\n",
    "#     except nx.NetworkXNoPath as noPathError:\n",
    "#         shortest_distance = None\n",
    "#         noPathCounter +=1\n",
    "#         print(noPathError)\n",
    "#         return shortest_distance\n",
    "# \n",
    "# df_train[\"osmnx_distance\"] = df_train.apply(lambda row: get_road_dist(NY_graph,row[\"pickup_longitude\"],row[\"pickup_latitude\"],row[\"dropoff_longitude\"],row[\"dropoff_latitude\"]), axis=1)\n",
    "# df_train.head()"
   ],
   "outputs": [],
   "execution_count": 26
  },
  {
   "cell_type": "code",
   "id": "d4dc0b37cfa674fa",
   "metadata": {},
   "source": [
    "# import requests\n",
    "\n",
    "# def get_road_dist(row):\n",
    "#     start_lon, start_lat = row[\"pickup_longitude\"], row[\"pickup_latitude\"]\n",
    "#     end_lon, end_lat = row[\"dropoff_longitude\"], row[\"dropoff_latitude\"]\n",
    "#     \n",
    "#     url = \"http://router.project-osrm.org/route/v1/driving/\"\n",
    "#     coords = f\"{start_lon},{start_lat};{end_lon},{end_lat}\"\n",
    "#     params = {\n",
    "#         \"geometries\": \"polyline\",\n",
    "#         \"overview\": \"full\",\n",
    "#         \"steps\": \"true\"\n",
    "#     }\n",
    "#     \n",
    "#     try:\n",
    "#         response = requests.get(url + coords, params=params)\n",
    "#         response.raise_for_status()\n",
    "#         data = response.json()\n",
    "#         \n",
    "#         if data[\"code\"] == \"Ok\" and data[\"routes\"]:\n",
    "#             return data[\"routes\"][0][\"distance\"]\n",
    "#         else:\n",
    "#             print(f\"Error: {data['message']}\")\n",
    "#             return None\n",
    "#     except requests.exceptions.RequestException as e:\n",
    "#         print(f\"Error: {e}\")\n",
    "#         return None\n",
    "# \n",
    "# \n",
    "# df_train[\"osrm_dist\"] = df_train.apply(get_road_dist, axis=1)"
   ],
   "outputs": [],
   "execution_count": null
  },
  {
   "cell_type": "code",
   "id": "f4cc39d582be6bc9",
   "metadata": {},
   "source": [
    "# import requests\n",
    "# from itertools import islice\n",
    "# from functools import lru_cache\n",
    "# \n",
    "# BATCH_SIZE = 200 \n",
    "# CACHE_SIZE = 10000 \n",
    "# \n",
    "# @lru_cache(maxsize=CACHE_SIZE)\n",
    "# def get_road_dist_cached(start_lon, start_lat, end_lon, end_lat):\n",
    "#     url = \"http://router.project-osrm.org/route/v1/driving/\"\n",
    "#     coords = f\"{start_lon},{start_lat};{end_lon},{end_lat}\"\n",
    "#     params = {\n",
    "#         \"geometries\": \"polyline\",\n",
    "#         \"overview\": \"full\",\n",
    "#         \"steps\": \"true\"\n",
    "#     }\n",
    "# \n",
    "#     try:\n",
    "#         response = requests.get(url + coords, params=params)\n",
    "#         response.raise_for_status()\n",
    "#         data = response.json()\n",
    "# \n",
    "#         if data[\"code\"] == \"Ok\" and data[\"routes\"]:\n",
    "#             return data[\"routes\"][0][\"distance\"]\n",
    "#         else:\n",
    "#             print(f\"Error: {data['message']}\")\n",
    "#             return None\n",
    "#     except requests.exceptions.RequestException as e:\n",
    "#         print(f\"Error: {e}\")\n",
    "#         return None\n",
    "# \n",
    "# def batch(iterable, batch_size):\n",
    "#     iterator = iter(iterable)\n",
    "#     while True:\n",
    "#         batch = list(islice(iterator, batch_size))\n",
    "#         if not batch:\n",
    "#             break\n",
    "#         yield batch\n",
    "# \n",
    "# def get_road_dist_batch(coords):\n",
    "#     distances = []\n",
    "#     for start_lon, start_lat, end_lon, end_lat in coords:\n",
    "#         distance = get_road_dist_cached(start_lon, start_lat, end_lon, end_lat)\n",
    "#         distances.append(distance)\n",
    "# \n",
    "#     return distances\n",
    "# \n",
    "# coords = list(df_train[[\"pickup_longitude\", \"pickup_latitude\", \"dropoff_longitude\", \"dropoff_latitude\"]].itertuples(index=False, name=None))\n",
    "# df_train[\"osrm_dist\"] = get_road_dist_batch(coords)"
   ],
   "outputs": [],
   "execution_count": null
  },
  {
   "cell_type": "code",
   "id": "e0e657bf69056bdb",
   "metadata": {},
   "source": [
    "# import requests\n",
    "# from itertools import islice\n",
    "# from functools import lru_cache\n",
    "# import time\n",
    "# \n",
    "# BATCH_SIZE = 100  \n",
    "# CACHE_SIZE = 10000\n",
    "# SLEEP_TIME = 1  # Sleep time between batches to avoid rate limiting\n",
    "# \n",
    "# @lru_cache(maxsize=CACHE_SIZE)\n",
    "# def get_road_dist_cached(start_lon, start_lat, end_lon, end_lat):\n",
    "#     url = \"http://router.project-osrm.org/route/v1/driving/\"\n",
    "#     coords = f\"{start_lon},{start_lat};{end_lon},{end_lat}\"\n",
    "#     params = {\n",
    "#         \"geometries\": \"polyline\",\n",
    "#         \"overview\": \"full\",\n",
    "#         \"steps\": \"true\"\n",
    "#     }\n",
    "# \n",
    "#     try:\n",
    "#         response = requests.get(url + coords, params=params)\n",
    "#         response.raise_for_status()\n",
    "#         data = response.json()\n",
    "# \n",
    "#         if data[\"code\"] == \"Ok\" and data[\"routes\"]:\n",
    "#             distance = data[\"routes\"][0][\"distance\"]\n",
    "#         else:\n",
    "#             print(f\"Error: {data['message']}\")\n",
    "#             distance = None\n",
    "# \n",
    "#         return distance\n",
    "#     except requests.exceptions.RequestException as e:\n",
    "#         print(f\"Error: {e}\")\n",
    "#         return None\n",
    "# \n",
    "# def batch(iterable, batch_size):\n",
    "#     iterator = iter(iterable)\n",
    "#     while True:\n",
    "#         batch = list(islice(iterator, batch_size))\n",
    "#         if not batch:\n",
    "#             break\n",
    "#         yield batch\n",
    "# \n",
    "# def get_road_dist_batch(coords):\n",
    "#     distances = []\n",
    "#     total_batches = len(coords) // BATCH_SIZE\n",
    "#     start_time = time.time()\n",
    "#     for i, coord_batch in enumerate(batch(coords, BATCH_SIZE), 1):\n",
    "#         batch_start_time = time.time()\n",
    "#         for start_lon, start_lat, end_lon, end_lat in coord_batch:\n",
    "#             distance = get_road_dist_cached(start_lon, start_lat, end_lon, end_lat)\n",
    "#             distances.append(distance)\n",
    "#         batch_time = time.time() - batch_start_time\n",
    "#         print(f\"Batch {i}/{total_batches} time: {batch_time:.2f} seconds\")\n",
    "#         time.sleep(SLEEP_TIME)  # Sleep to avoid hitting rate limits\n",
    "#     total_time = time.time() - start_time\n",
    "#     print(f\"Total time for {total_batches} batches: {total_time:.2f} seconds\")\n",
    "#     return distances\n",
    "# \n",
    "# coords = list(df_train[[\"pickup_longitude\", \"pickup_latitude\", \"dropoff_longitude\", \"dropoff_latitude\"]].itertuples(index=False, name=None))\n",
    "# df_train[\"osrm_dist\"] = get_road_dist_batch(coords)"
   ],
   "outputs": [],
   "execution_count": null
  },
  {
   "cell_type": "code",
   "id": "90d9b8ddb369e1ea",
   "metadata": {},
   "source": [
    "# import requests\n",
    "# import pandas as pd\n",
    "# from concurrent.futures import ThreadPoolExecutor, as_completed\n",
    "# import time\n",
    "# import hashlib\n",
    "# \n",
    "# # Initialize a cache\n",
    "# cache = {}\n",
    "# \n",
    "# def get_road_dist(start_lon, start_lat, end_lon, end_lat):\n",
    "#     # Create a unique key for the route using hashing for efficiency\n",
    "#     route_key = hashlib.md5(f\"{start_lon},{start_lat},{end_lon},{end_lat}\".encode()).hexdigest()\n",
    "# \n",
    "#     # Check if the distance is already in the cache\n",
    "#     if route_key in cache:\n",
    "#         return cache[route_key]\n",
    "# \n",
    "#     url = \"http://router.project-osrm.org/route/v1/driving/\"\n",
    "#     coords = f\"{start_lon},{start_lat};{end_lon},{end_lat}\"\n",
    "#     params = {\n",
    "#         \"geometries\": \"polyline\",\n",
    "#         \"overview\": \"full\",\n",
    "#         \"steps\": \"true\"\n",
    "#     }\n",
    "# \n",
    "#     try:\n",
    "#         response = requests.get(url + coords, params=params)\n",
    "#         response.raise_for_status()\n",
    "#         data = response.json()\n",
    "# \n",
    "#         if data[\"code\"] == \"Ok\" and data[\"routes\"]:\n",
    "#             distance = data[\"routes\"][0][\"distance\"]\n",
    "#             # Save the distance in the cache\n",
    "#             cache[route_key] = distance\n",
    "#             return distance\n",
    "#         else:\n",
    "#             print(f\"Error: {data['message']}\")\n",
    "#             return None\n",
    "#     except requests.exceptions.RequestException as e:\n",
    "#         print(f\"Error: {e}\")\n",
    "#         return None\n",
    "# \n",
    "# def process_row(row):\n",
    "#     start_time_row = time.time()\n",
    "#     distance_osrm = get_road_dist(row[\"pickup_longitude\"], row[\"pickup_latitude\"], row[\"dropoff_longitude\"], row[\"dropoff_latitude\"])\n",
    "#     end_time_row = time.time()\n",
    "#     print(\"current row processing time: \", end_time_row - start_time_row)\n",
    "#     return  distance_osrm\n",
    "# \n",
    "# # Function to handle parallel processing\n",
    "# def parallel_process(df, func, n_jobs=50):\n",
    "#     results = []\n",
    "#     with ThreadPoolExecutor(max_workers=n_jobs) as executor:\n",
    "#         futures = [executor.submit(func, row) for _, row in df.iterrows()]\n",
    "#         for future in as_completed(futures):\n",
    "#             results.append(future.result())\n",
    "#     return results\n",
    "# \n",
    "# \n",
    "# # Apply the function to the dataframe with parallel processing\n",
    "# start_time = time.time()\n",
    "# df_train[\"osrm_dist\"] = parallel_process(df_train, process_row, n_jobs=8)\n",
    "# end_time = time.time()\n",
    "# \n",
    "# print(df_train)\n",
    "# print(f\"Processing time: {end_time - start_time} seconds\")"
   ],
   "outputs": [],
   "execution_count": null
  },
  {
   "metadata": {},
   "cell_type": "code",
   "source": [
    "# import aiohttp\n",
    "# import asyncio\n",
    "# import hashlib\n",
    "# import time\n",
    "# \n",
    "# # Initialize a cache\n",
    "# cache = {}\n",
    "# \n",
    "# async def get_road_dist(session, start_lon, start_lat, end_lon, end_lat):\n",
    "#     # Create a unique key for the route using hashing for efficiency\n",
    "#     route_key = hashlib.md5(f\"{start_lon},{start_lat},{end_lon},{end_lat}\".encode()).hexdigest()\n",
    "# \n",
    "#     # Check if the distance is already in the cache\n",
    "#     if route_key in cache:\n",
    "#         return cache[route_key]\n",
    "# \n",
    "#     url = f\"http://router.project-osrm.org/route/v1/driving/{start_lon},{start_lat};{end_lon},{end_lat}\"\n",
    "#     params = {\n",
    "#         \"geometries\": \"polyline\",\n",
    "#         \"overview\": \"full\",\n",
    "#         \"steps\": \"true\"\n",
    "#     }\n",
    "# \n",
    "#     try:\n",
    "#         async with session.get(url, params=params) as response:\n",
    "#             data = await response.json()\n",
    "#             if data[\"code\"] == \"Ok\" and data[\"routes\"]:\n",
    "#                 distance = data[\"routes\"][0][\"distance\"]\n",
    "#                 # Save the distance in the cache\n",
    "#                 cache[route_key] = distance\n",
    "#                 return distance\n",
    "#             else:\n",
    "#                 print(f\"Error: {data['message']}\")\n",
    "#                 return None\n",
    "#     except aiohttp.ClientError as e:\n",
    "#         print(f\"Error: {e}\")\n",
    "#         return None\n",
    "# \n",
    "# async def process_row(session, row):\n",
    "#     start_time_row = time.time()\n",
    "#     distance_osrm = await get_road_dist(session, row[\"pickup_longitude\"], row[\"pickup_latitude\"], row[\"dropoff_longitude\"], row[\"dropoff_latitude\"])\n",
    "#     end_time_row = time.time()\n",
    "#     print(\"Current row processing time: \", end_time_row - start_time_row)\n",
    "#     return distance_osrm\n",
    "# \n",
    "# async def main(df):\n",
    "#     async with aiohttp.ClientSession() as session:\n",
    "#         tasks = []\n",
    "#         for _, row in df.iterrows():\n",
    "#             tasks.append(process_row(session, row))\n",
    "#         results = await asyncio.gather(*tasks)\n",
    "#         return results\n",
    "# \n",
    "# # Apply the function to the dataframe with asynchronous processing\n",
    "# start_time = time.time()\n",
    "# df_train[\"osrm_dist\"] = await main(df_train)\n",
    "# end_time = time.time()\n",
    "# \n",
    "# print(df_train)\n",
    "# print(f\"Total processing time: {end_time - start_time} seconds\")"
   ],
   "id": "7f3004a1a0ee9e9c",
   "outputs": [],
   "execution_count": null
  }
 ],
 "metadata": {
  "kernelspec": {
   "display_name": "Python 3 (ipykernel)",
   "language": "python",
   "name": "python3"
  },
  "language_info": {
   "codemirror_mode": {
    "name": "ipython",
    "version": 3
   },
   "file_extension": ".py",
   "mimetype": "text/x-python",
   "name": "python",
   "nbconvert_exporter": "python",
   "pygments_lexer": "ipython3",
   "version": "3.12.3"
  }
 },
 "nbformat": 4,
 "nbformat_minor": 5
}
